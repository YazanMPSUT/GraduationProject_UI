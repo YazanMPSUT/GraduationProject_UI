{
 "cells": [
  {
   "cell_type": "code",
   "execution_count": 10,
   "metadata": {},
   "outputs": [
    {
     "name": "stdout",
     "output_type": "stream",
     "text": [
      "C:\\Users\\yaz_s\\OneDrive\\Education_Stuff\\Graduation_Project\\Project_Files\\Environment_Server\n"
     ]
    }
   ],
   "source": [
    "import os\n",
    "import cv2\n",
    "import face_recognition\n",
    "import pickle\n",
    "import string\n",
    "\n",
    "LABELS_TO_FACES_DICT_PICKLED_FILENAME = 'labels_to_face_encodings_dict.pkl'\n",
    "os.chdir(r'C:\\Users\\yaz_s\\OneDrive\\Education_Stuff\\Graduation_Project\\Project_Files\\Environment_Server')\n",
    "print(os.getcwd())"
   ]
  },
  {
   "cell_type": "code",
   "execution_count": 11,
   "metadata": {},
   "outputs": [],
   "source": [
    "# Load face encodings and labels from photos\n",
    "\n",
    "def load_mappings():\n",
    "    if os.path.isfile(LABELS_TO_FACES_DICT_PICKLED_FILENAME):\n",
    "        labels_to_encodings = pickle.load(open(LABELS_TO_FACES_DICT_PICKLED_FILENAME,'rb'))\n",
    "    else:\n",
    "        labels_to_encodings = {}\n",
    "    \n",
    "    return labels_to_encodings\n",
    "\n",
    "def dump_mappings(labels_to_encodings):\n",
    "    pickle.dump(labels_to_encodings,open(LABELS_TO_FACES_DICT_PICKLED_FILENAME,'wb'))\n",
    "    return\n",
    "\n",
    "def load_face_encodings_from_photos(directory):\n",
    "    label_to_encodings = load_mappings()\n",
    "\n",
    "    for filename in os.listdir(directory):\n",
    "        if filename.endswith('.jpg') or filename.endswith('.png'):\n",
    "            label = str(os.path.splitext(filename)[0]).lower()\n",
    "            label = ''.join([letter for letter in label if letter in string.ascii_letters or letter in '_'])\n",
    "            image_path = os.path.join(directory, filename)\n",
    "\n",
    "            # Load image and generate face encoding \n",
    "            image = face_recognition.load_image_file(image_path)\n",
    "            encoding = face_recognition.face_encodings(image)\n",
    "            print(bool(encoding),end=' ')\n",
    "            if len(encoding) > 0:\n",
    "                if label not in label_to_encodings.keys(): #Do not overwrite existing labels\n",
    "                    label_to_encodings[label] = encoding[0]\n",
    "\n",
    "    dump_mappings(label_to_encodings)\n",
    "\n",
    "    return label_to_encodings\n",
    "\n"
   ]
  },
  {
   "cell_type": "code",
   "execution_count": 12,
   "metadata": {},
   "outputs": [
    {
     "name": "stdout",
     "output_type": "stream",
     "text": [
      "True True "
     ]
    }
   ],
   "source": [
    "import time\n",
    "\n",
    "\n",
    "# Directory containing face photos\n",
    "photo_directory = 'Known_Faces'\n",
    "\n",
    "# Load face encodings and labels from photos\n",
    "labels_to_encodings = load_face_encodings_from_photos(photo_directory)\n",
    "\n",
    "WIDTH = HEIGHT = 700\n",
    "\n",
    "# Initialize webcam\n",
    "video_capture = cv2.VideoCapture(0)\n",
    "video_capture.set(cv2.CAP_PROP_FRAME_HEIGHT,WIDTH)\n",
    "video_capture.set(cv2.CAP_PROP_FRAME_WIDTH,HEIGHT)\n",
    "\n",
    "\n",
    "\n",
    "known_face_labels, known_face_encodings = list(labels_to_encodings.keys()) , list(labels_to_encodings.values())\n",
    "\n",
    "\n",
    "try:\n",
    "    while True:\n",
    "        # Capture frame-by-frame\n",
    "        ret, frame = video_capture.read()\n",
    "        \n",
    "        start_time = time.time()\n",
    "        # Find all face locations and encodings in the current frame\n",
    "        face_locations = face_recognition.face_locations(frame)\n",
    "        face_encodings = face_recognition.face_encodings(frame, face_locations)\n",
    "        \n",
    "        i = 0\n",
    "\n",
    "        for encoding in face_encodings:\n",
    "            # Compare the face encoding with known faces\n",
    "            matches = face_recognition.compare_faces(known_face_encodings, encoding)\n",
    "            name = \"Unknown\"\n",
    "            \n",
    "\n",
    "            if True in matches:\n",
    "                \n",
    "                first_match_index = matches.index(True)\n",
    "                name = known_face_labels[first_match_index]\n",
    "                    \n",
    "            # Display the name near the face\n",
    "            if face_locations:\n",
    "                cv2.putText(frame, name, (face_locations[i][3] + 10 , face_locations[i][0] + 10),\n",
    "                        cv2.FONT_HERSHEY_SIMPLEX, 0.75, (0, 255, 0), 2)\n",
    "                i = i + 1\n",
    "\n",
    "        end_time = time.time()\n",
    "        elapsed_time = end_time - start_time\n",
    "        cv2.putText(frame, str(elapsed_time), (WIDTH//2, HEIGHT//4),\n",
    "                        cv2.FONT_HERSHEY_SIMPLEX, 0.75, (0, 255, 0), 2)\n",
    "        \n",
    "        # Display the resulting image\n",
    "        cv2.imshow('Video', frame)\n",
    "\n",
    "        # Exit loop if 'q' is pressed\n",
    "        if cv2.waitKey(1) & 0xFF == ord('q'):\n",
    "            break\n",
    "\n",
    "    # Release the webcam and close OpenCV windows\n",
    "    video_capture.release()\n",
    "    cv2.destroyAllWindows()\n",
    "\n",
    "finally:\n",
    "    pass\n",
    "\n"
   ]
  }
 ],
 "metadata": {
  "kernelspec": {
   "display_name": "Python 3",
   "language": "python",
   "name": "python3"
  },
  "language_info": {
   "codemirror_mode": {
    "name": "ipython",
    "version": 3
   },
   "file_extension": ".py",
   "mimetype": "text/x-python",
   "name": "python",
   "nbconvert_exporter": "python",
   "pygments_lexer": "ipython3",
   "version": "3.12.0"
  }
 },
 "nbformat": 4,
 "nbformat_minor": 2
}
