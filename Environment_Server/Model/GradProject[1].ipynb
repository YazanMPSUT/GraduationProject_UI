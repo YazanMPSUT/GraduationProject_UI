{
 "cells": [
  {
   "cell_type": "code",
   "execution_count": 1,
   "id": "6c6e12f6-96b1-4d20-8123-72869ec5a149",
   "metadata": {},
   "outputs": [
    {
     "name": "stdout",
     "output_type": "stream",
     "text": [
      "Requirement already satisfied: tensorflow in c:\\users\\yaz_s\\appdata\\local\\programs\\python\\python312\\lib\\site-packages (2.16.1)\n",
      "Requirement already satisfied: tensorflow-intel==2.16.1 in c:\\users\\yaz_s\\appdata\\local\\programs\\python\\python312\\lib\\site-packages (from tensorflow) (2.16.1)\n",
      "Requirement already satisfied: absl-py>=1.0.0 in c:\\users\\yaz_s\\appdata\\local\\programs\\python\\python312\\lib\\site-packages (from tensorflow-intel==2.16.1->tensorflow) (2.1.0)\n",
      "Requirement already satisfied: astunparse>=1.6.0 in c:\\users\\yaz_s\\appdata\\local\\programs\\python\\python312\\lib\\site-packages (from tensorflow-intel==2.16.1->tensorflow) (1.6.3)\n",
      "Requirement already satisfied: flatbuffers>=23.5.26 in c:\\users\\yaz_s\\appdata\\local\\programs\\python\\python312\\lib\\site-packages (from tensorflow-intel==2.16.1->tensorflow) (24.3.6)\n",
      "Requirement already satisfied: gast!=0.5.0,!=0.5.1,!=0.5.2,>=0.2.1 in c:\\users\\yaz_s\\appdata\\local\\programs\\python\\python312\\lib\\site-packages (from tensorflow-intel==2.16.1->tensorflow) (0.5.4)\n",
      "Requirement already satisfied: google-pasta>=0.1.1 in c:\\users\\yaz_s\\appdata\\local\\programs\\python\\python312\\lib\\site-packages (from tensorflow-intel==2.16.1->tensorflow) (0.2.0)\n",
      "Requirement already satisfied: h5py>=3.10.0 in c:\\users\\yaz_s\\appdata\\local\\programs\\python\\python312\\lib\\site-packages (from tensorflow-intel==2.16.1->tensorflow) (3.10.0)\n",
      "Requirement already satisfied: libclang>=13.0.0 in c:\\users\\yaz_s\\appdata\\local\\programs\\python\\python312\\lib\\site-packages (from tensorflow-intel==2.16.1->tensorflow) (16.0.6)\n",
      "Requirement already satisfied: ml-dtypes~=0.3.1 in c:\\users\\yaz_s\\appdata\\local\\programs\\python\\python312\\lib\\site-packages (from tensorflow-intel==2.16.1->tensorflow) (0.3.2)\n",
      "Requirement already satisfied: opt-einsum>=2.3.2 in c:\\users\\yaz_s\\appdata\\local\\programs\\python\\python312\\lib\\site-packages (from tensorflow-intel==2.16.1->tensorflow) (3.3.0)\n",
      "Requirement already satisfied: packaging in c:\\users\\yaz_s\\appdata\\local\\programs\\python\\python312\\lib\\site-packages (from tensorflow-intel==2.16.1->tensorflow) (23.2)\n",
      "Requirement already satisfied: protobuf!=4.21.0,!=4.21.1,!=4.21.2,!=4.21.3,!=4.21.4,!=4.21.5,<5.0.0dev,>=3.20.3 in c:\\users\\yaz_s\\appdata\\local\\programs\\python\\python312\\lib\\site-packages (from tensorflow-intel==2.16.1->tensorflow) (4.25.3)\n",
      "Requirement already satisfied: requests<3,>=2.21.0 in c:\\users\\yaz_s\\appdata\\local\\programs\\python\\python312\\lib\\site-packages (from tensorflow-intel==2.16.1->tensorflow) (2.31.0)\n",
      "Requirement already satisfied: setuptools in c:\\users\\yaz_s\\appdata\\local\\programs\\python\\python312\\lib\\site-packages (from tensorflow-intel==2.16.1->tensorflow) (68.2.2)\n",
      "Requirement already satisfied: six>=1.12.0 in c:\\users\\yaz_s\\appdata\\local\\programs\\python\\python312\\lib\\site-packages (from tensorflow-intel==2.16.1->tensorflow) (1.16.0)\n",
      "Requirement already satisfied: termcolor>=1.1.0 in c:\\users\\yaz_s\\appdata\\local\\programs\\python\\python312\\lib\\site-packages (from tensorflow-intel==2.16.1->tensorflow) (2.4.0)\n",
      "Requirement already satisfied: typing-extensions>=3.6.6 in c:\\users\\yaz_s\\appdata\\local\\programs\\python\\python312\\lib\\site-packages (from tensorflow-intel==2.16.1->tensorflow) (4.10.0)\n",
      "Requirement already satisfied: wrapt>=1.11.0 in c:\\users\\yaz_s\\appdata\\local\\programs\\python\\python312\\lib\\site-packages (from tensorflow-intel==2.16.1->tensorflow) (1.16.0)\n",
      "Requirement already satisfied: grpcio<2.0,>=1.24.3 in c:\\users\\yaz_s\\appdata\\local\\programs\\python\\python312\\lib\\site-packages (from tensorflow-intel==2.16.1->tensorflow) (1.62.0)\n",
      "Requirement already satisfied: tensorboard<2.17,>=2.16 in c:\\users\\yaz_s\\appdata\\local\\programs\\python\\python312\\lib\\site-packages (from tensorflow-intel==2.16.1->tensorflow) (2.16.2)\n",
      "Requirement already satisfied: keras>=3.0.0 in c:\\users\\yaz_s\\appdata\\local\\programs\\python\\python312\\lib\\site-packages (from tensorflow-intel==2.16.1->tensorflow) (3.3.3)\n",
      "Requirement already satisfied: numpy<2.0.0,>=1.26.0 in c:\\users\\yaz_s\\appdata\\local\\programs\\python\\python312\\lib\\site-packages (from tensorflow-intel==2.16.1->tensorflow) (1.26.2)\n",
      "Requirement already satisfied: wheel<1.0,>=0.23.0 in c:\\users\\yaz_s\\appdata\\local\\programs\\python\\python312\\lib\\site-packages (from astunparse>=1.6.0->tensorflow-intel==2.16.1->tensorflow) (0.42.0)\n",
      "Requirement already satisfied: rich in c:\\users\\yaz_s\\appdata\\local\\programs\\python\\python312\\lib\\site-packages (from keras>=3.0.0->tensorflow-intel==2.16.1->tensorflow) (13.7.1)\n",
      "Requirement already satisfied: namex in c:\\users\\yaz_s\\appdata\\local\\programs\\python\\python312\\lib\\site-packages (from keras>=3.0.0->tensorflow-intel==2.16.1->tensorflow) (0.0.7)\n",
      "Requirement already satisfied: optree in c:\\users\\yaz_s\\appdata\\local\\programs\\python\\python312\\lib\\site-packages (from keras>=3.0.0->tensorflow-intel==2.16.1->tensorflow) (0.11.0)\n",
      "Requirement already satisfied: charset-normalizer<4,>=2 in c:\\users\\yaz_s\\appdata\\local\\programs\\python\\python312\\lib\\site-packages (from requests<3,>=2.21.0->tensorflow-intel==2.16.1->tensorflow) (3.3.2)\n",
      "Requirement already satisfied: idna<4,>=2.5 in c:\\users\\yaz_s\\appdata\\local\\programs\\python\\python312\\lib\\site-packages (from requests<3,>=2.21.0->tensorflow-intel==2.16.1->tensorflow) (3.4)\n",
      "Requirement already satisfied: urllib3<3,>=1.21.1 in c:\\users\\yaz_s\\appdata\\local\\programs\\python\\python312\\lib\\site-packages (from requests<3,>=2.21.0->tensorflow-intel==2.16.1->tensorflow) (2.1.0)\n",
      "Requirement already satisfied: certifi>=2017.4.17 in c:\\users\\yaz_s\\appdata\\local\\programs\\python\\python312\\lib\\site-packages (from requests<3,>=2.21.0->tensorflow-intel==2.16.1->tensorflow) (2023.7.22)\n",
      "Requirement already satisfied: markdown>=2.6.8 in c:\\users\\yaz_s\\appdata\\local\\programs\\python\\python312\\lib\\site-packages (from tensorboard<2.17,>=2.16->tensorflow-intel==2.16.1->tensorflow) (3.5.2)\n",
      "Requirement already satisfied: tensorboard-data-server<0.8.0,>=0.7.0 in c:\\users\\yaz_s\\appdata\\local\\programs\\python\\python312\\lib\\site-packages (from tensorboard<2.17,>=2.16->tensorflow-intel==2.16.1->tensorflow) (0.7.2)\n",
      "Requirement already satisfied: werkzeug>=1.0.1 in c:\\users\\yaz_s\\appdata\\local\\programs\\python\\python312\\lib\\site-packages (from tensorboard<2.17,>=2.16->tensorflow-intel==2.16.1->tensorflow) (3.0.1)\n",
      "Requirement already satisfied: MarkupSafe>=2.1.1 in c:\\users\\yaz_s\\appdata\\local\\programs\\python\\python312\\lib\\site-packages (from werkzeug>=1.0.1->tensorboard<2.17,>=2.16->tensorflow-intel==2.16.1->tensorflow) (2.1.3)\n",
      "Requirement already satisfied: markdown-it-py>=2.2.0 in c:\\users\\yaz_s\\appdata\\local\\programs\\python\\python312\\lib\\site-packages (from rich->keras>=3.0.0->tensorflow-intel==2.16.1->tensorflow) (3.0.0)\n",
      "Requirement already satisfied: pygments<3.0.0,>=2.13.0 in c:\\users\\yaz_s\\appdata\\local\\programs\\python\\python312\\lib\\site-packages (from rich->keras>=3.0.0->tensorflow-intel==2.16.1->tensorflow) (2.17.2)\n",
      "Requirement already satisfied: mdurl~=0.1 in c:\\users\\yaz_s\\appdata\\local\\programs\\python\\python312\\lib\\site-packages (from markdown-it-py>=2.2.0->rich->keras>=3.0.0->tensorflow-intel==2.16.1->tensorflow) (0.1.2)\n"
     ]
    }
   ],
   "source": [
    "!pip install tensorflow\n"
   ]
  },
  {
   "cell_type": "code",
   "execution_count": 2,
   "id": "8ccde703-e589-43c9-91c1-00e59ddf11af",
   "metadata": {},
   "outputs": [],
   "source": [
    "#!pip install tensorflow-gpu\n"
   ]
  },
  {
   "cell_type": "code",
   "execution_count": 3,
   "id": "3a0837a7-ac7b-4179-9c2e-bf59b584834b",
   "metadata": {},
   "outputs": [
    {
     "name": "stdout",
     "output_type": "stream",
     "text": [
      "Requirement already satisfied: opencv-python in c:\\users\\sarah\\appdata\\local\\programs\\python\\python312\\lib\\site-packages (4.9.0.80)\n",
      "Requirement already satisfied: matplotlib in c:\\users\\sarah\\appdata\\local\\programs\\python\\python312\\lib\\site-packages (3.8.4)\n",
      "Requirement already satisfied: numpy>=1.21.2 in c:\\users\\sarah\\appdata\\local\\programs\\python\\python312\\lib\\site-packages (from opencv-python) (1.26.4)\n",
      "Requirement already satisfied: contourpy>=1.0.1 in c:\\users\\sarah\\appdata\\local\\programs\\python\\python312\\lib\\site-packages (from matplotlib) (1.2.1)\n",
      "Requirement already satisfied: cycler>=0.10 in c:\\users\\sarah\\appdata\\local\\programs\\python\\python312\\lib\\site-packages (from matplotlib) (0.12.1)\n",
      "Requirement already satisfied: fonttools>=4.22.0 in c:\\users\\sarah\\appdata\\local\\programs\\python\\python312\\lib\\site-packages (from matplotlib) (4.51.0)\n",
      "Requirement already satisfied: kiwisolver>=1.3.1 in c:\\users\\sarah\\appdata\\local\\programs\\python\\python312\\lib\\site-packages (from matplotlib) (1.4.5)\n",
      "Requirement already satisfied: packaging>=20.0 in c:\\users\\sarah\\appdata\\local\\programs\\python\\python312\\lib\\site-packages (from matplotlib) (24.0)\n",
      "Requirement already satisfied: pillow>=8 in c:\\users\\sarah\\appdata\\local\\programs\\python\\python312\\lib\\site-packages (from matplotlib) (10.3.0)\n",
      "Requirement already satisfied: pyparsing>=2.3.1 in c:\\users\\sarah\\appdata\\local\\programs\\python\\python312\\lib\\site-packages (from matplotlib) (3.1.2)\n",
      "Requirement already satisfied: python-dateutil>=2.7 in c:\\users\\sarah\\appdata\\local\\programs\\python\\python312\\lib\\site-packages (from matplotlib) (2.9.0.post0)\n",
      "Requirement already satisfied: six>=1.5 in c:\\users\\sarah\\appdata\\local\\programs\\python\\python312\\lib\\site-packages (from python-dateutil>=2.7->matplotlib) (1.16.0)\n"
     ]
    }
   ],
   "source": [
    "!pip install opencv-python matplotlib\n"
   ]
  },
  {
   "cell_type": "code",
   "execution_count": 4,
   "id": "3301f5c0-1c9e-4233-90df-e16661431533",
   "metadata": {},
   "outputs": [],
   "source": [
    "#installing dependencies"
   ]
  },
  {
   "cell_type": "code",
   "execution_count": 5,
   "id": "ec8194d6-d62a-4857-96d1-2175875b60f7",
   "metadata": {},
   "outputs": [],
   "source": [
    "import cv2\n",
    "import os\n",
    "import random  #built-in Python module that provides functions for generating pseudo-random numbers.\n",
    "import numpy as np #python package to operate on arrays & matrices\n",
    "from matplotlib import pyplot as plt"
   ]
  },
  {
   "cell_type": "code",
   "execution_count": 6,
   "id": "11201942-1de1-4ada-b4c0-7fc23fcd5859",
   "metadata": {},
   "outputs": [],
   "source": [
    "#import dependencies"
   ]
  },
  {
   "cell_type": "code",
   "execution_count": 7,
   "id": "5280d873-6bba-4d79-b2a8-346efaf3aa05",
   "metadata": {},
   "outputs": [],
   "source": [
    "from tensorflow.keras.models import Model #allows to define a model by specifying its input(s) and output(s), along with the layers that connect them.\n",
    "from tensorflow.keras.layers import Layer, Conv2D, Dense, MaxPooling2D, Input, Flatten\n",
    "import tensorflow as tf"
   ]
  },
  {
   "cell_type": "code",
   "execution_count": 8,
   "id": "c8e1ed03-ad5f-4f0f-a400-858a63e6e713",
   "metadata": {},
   "outputs": [],
   "source": [
    "#create folders"
   ]
  },
  {
   "cell_type": "code",
   "execution_count": 9,
   "id": "dc8f7e33-b62d-412a-8bb1-d678897adb71",
   "metadata": {},
   "outputs": [],
   "source": [
    "#paths:\n",
    "BASE_PATH = os.path.join('data', 'Base')\n",
    "POS_PATH = os.path.join('data', 'positive')\n",
    "NEG_PATH = os.path.join('data', 'negative')"
   ]
  },
  {
   "cell_type": "code",
   "execution_count": 10,
   "id": "13d4003f-715d-4f2c-a00e-691704a94600",
   "metadata": {},
   "outputs": [],
   "source": [
    "#create dirs"
   ]
  },
  {
   "cell_type": "code",
   "execution_count": 11,
   "id": "981a1a6d-5e2a-4778-a626-847bdf7ee836",
   "metadata": {},
   "outputs": [],
   "source": [
    "#os.makedirs(POS_PATH)\n",
    "#os.makedirs(NEG_PATH)\n",
    "#os.makedirs(BASE_PATH)"
   ]
  },
  {
   "cell_type": "code",
   "execution_count": 12,
   "id": "4a8dd07b-0dba-4705-9693-7e25858f1425",
   "metadata": {},
   "outputs": [],
   "source": [
    "#Rename Pictures"
   ]
  },
  {
   "cell_type": "code",
   "execution_count": 13,
   "id": "7e5d9bf2-8355-4543-a761-e42d7d0164b7",
   "metadata": {},
   "outputs": [],
   "source": [
    "\n",
    "# def rename_files_and_folders(source_dir):\n",
    "#     # Iterate over subfolders\n",
    "#     for root, dirs, files in os.walk(source_dir):\n",
    "#         for i, subdir in enumerate(dirs, start=1):\n",
    "#             # Rename subfolder\n",
    "#             old_subfolder_path = os.path.join(root, subdir)\n",
    "#             new_subfolder_name = f\"{subdir}_{i}\"\n",
    "#             new_subfolder_path = os.path.join(root, new_subfolder_name)\n",
    "#             os.rename(old_subfolder_path, new_subfolder_path)\n",
    "            \n",
    "#             # Rename files within the subfolder\n",
    "#             for j, filename in enumerate(os.listdir(new_subfolder_path), start=1):\n",
    "#                 old_file_path = os.path.join(new_subfolder_path, filename)\n",
    "#                 new_filename = f\"{new_subfolder_name}_{j}.jpg\"  # Example extension \".jpg\"\n",
    "#                 new_file_path = os.path.join(new_subfolder_path, new_filename)\n",
    "#                 os.rename(old_file_path, new_file_path)\n",
    "\n",
    "# # Example usage\n",
    "# source_directory = 'C:\\\\Users\\\\Sarah\\\\Desktop\\\\Python_wss\\\\test'  # Replace with the path to VGG2Face dataset\n",
    "# rename_files_and_folders(source_directory)\n"
   ]
  },
  {
   "cell_type": "code",
   "execution_count": 14,
   "id": "11d111f6-ef79-420f-b442-7d9bd5f019bd",
   "metadata": {},
   "outputs": [],
   "source": [
    "#MOVE PICTURES for test"
   ]
  },
  {
   "cell_type": "code",
   "execution_count": 15,
   "id": "f22ab17a-2ace-4463-9188-5e37d67f5a46",
   "metadata": {},
   "outputs": [],
   "source": [
    "import shutil"
   ]
  },
  {
   "cell_type": "code",
   "execution_count": 16,
   "id": "dd92c4e9-579b-4c1b-888e-a32cb5295021",
   "metadata": {},
   "outputs": [],
   "source": [
    "# def move_images(source_dir, destination_dir):\n",
    "#     # Create the destination directory if it doesn't exist\n",
    "#     if not os.path.exists(destination_dir):\n",
    "#         os.makedirs(destination_dir)\n",
    "    \n",
    "#     # Traverse through the source directory\n",
    "#     for root, dirs, files in os.walk(source_dir):\n",
    "#         # Iterate over files in each subfolder\n",
    "#         for file in files:\n",
    "#             # Get the source file path\n",
    "#             source_file = os.path.join(root, file)\n",
    "#             # Get the destination file path\n",
    "#             destination_file = os.path.join(destination_dir, file)\n",
    "#             # Move the file to the destination directory\n",
    "#             shutil.move(source_file, destination_file)\n",
    "\n",
    "# # Example usage\n",
    "# source_directory = 'C:\\\\Users\\\\Sarah\\\\Desktop\\\\Python_wss\\\\test'  # Replace with the path to VGG2Face dataset\n",
    "# destination_directory = 'C:\\\\Users\\\\Sarah\\\\Desktop\\\\Python_wss\\\\data\\\\negative'  # Replace with the path to destination folder\n",
    "# move_images(source_directory, destination_directory)"
   ]
  },
  {
   "cell_type": "code",
   "execution_count": 17,
   "id": "a83013a6-eacd-48dc-aa38-8dec93f966e7",
   "metadata": {},
   "outputs": [],
   "source": [
    "# #for test2\n",
    "# def rename_files_and_folders(source_dir):\n",
    "#     # Iterate over subfolders\n",
    "#     for root, dirs, files in os.walk(source_dir):\n",
    "#         for i, subdir in enumerate(dirs, start=169):\n",
    "#             # Rename subfolder\n",
    "#             old_subfolder_path = os.path.join(root, subdir)\n",
    "#             new_subfolder_name = f\"{subdir}_{i}\"\n",
    "#             new_subfolder_path = os.path.join(root, new_subfolder_name)\n",
    "#             os.rename(old_subfolder_path, new_subfolder_path)\n",
    "            \n",
    "#             # Rename files within the subfolder\n",
    "#             for j, filename in enumerate(os.listdir(new_subfolder_path), start=1):\n",
    "#                 old_file_path = os.path.join(new_subfolder_path, filename)\n",
    "#                 new_filename = f\"{new_subfolder_name}_{j}.jpg\"  # Example extension \".jpg\"\n",
    "#                 new_file_path = os.path.join(new_subfolder_path, new_filename)\n",
    "#                 os.rename(old_file_path, new_file_path)\n",
    "\n",
    "# # Example usage\n",
    "# source_directory = 'C:\\\\Users\\\\Sarah\\\\Desktop\\\\Python_wss\\\\test2'  # Replace with the path to VGG2Face dataset\n",
    "# rename_files_and_folders(source_directory)"
   ]
  },
  {
   "cell_type": "code",
   "execution_count": 18,
   "id": "41601b69-17c1-43ab-ad77-3db2a90a76af",
   "metadata": {},
   "outputs": [],
   "source": [
    "# def move_images(source_dir, destination_dir):\n",
    "#     # Create the destination directory if it doesn't exist\n",
    "#     if not os.path.exists(destination_dir):\n",
    "#         os.makedirs(destination_dir)\n",
    "    \n",
    "#     # Traverse through the source directory\n",
    "#     for root, dirs, files in os.walk(source_dir):\n",
    "#         # Iterate over files in each subfolder\n",
    "#         for file in files:\n",
    "#             # Get the source file path\n",
    "#             source_file = os.path.join(root, file)\n",
    "#             # Get the destination file path\n",
    "#             destination_file = os.path.join(destination_dir, file)\n",
    "#             # Move the file to the destination directory\n",
    "#             shutil.move(source_file, destination_file)\n",
    "\n",
    "# # Example usage\n",
    "# source_directory = 'C:\\\\Users\\\\Sarah\\\\Desktop\\\\Python_wss\\\\test2'  # Replace with the path to VGG2Face dataset\n",
    "# destination_directory = 'C:\\\\Users\\\\Sarah\\\\Desktop\\\\Python_wss\\\\data\\\\negative'  # Replace with the path to destination folder\n",
    "# move_images(source_directory, destination_directory)"
   ]
  },
  {
   "cell_type": "code",
   "execution_count": 19,
   "id": "ff08694e-52aa-45ac-bb43-b4af8be65873",
   "metadata": {},
   "outputs": [],
   "source": [
    "# #for test3\n",
    "# def rename_files_and_folders(source_dir):\n",
    "#     # Iterate over subfolders\n",
    "#     for root, dirs, files in os.walk(source_dir):\n",
    "#         for i, subdir in enumerate(dirs, start=335):\n",
    "#             # Rename subfolder\n",
    "#             old_subfolder_path = os.path.join(root, subdir)\n",
    "#             new_subfolder_name = f\"{subdir}_{i}\"\n",
    "#             new_subfolder_path = os.path.join(root, new_subfolder_name)\n",
    "#             os.rename(old_subfolder_path, new_subfolder_path)\n",
    "            \n",
    "#             # Rename files within the subfolder\n",
    "#             for j, filename in enumerate(os.listdir(new_subfolder_path), start=1):\n",
    "#                 old_file_path = os.path.join(new_subfolder_path, filename)\n",
    "#                 new_filename = f\"{new_subfolder_name}_{j}.jpg\"  # Example extension \".jpg\"\n",
    "#                 new_file_path = os.path.join(new_subfolder_path, new_filename)\n",
    "#                 os.rename(old_file_path, new_file_path)\n",
    "\n",
    "# # Example usage\n",
    "# source_directory = 'C:\\\\Users\\\\Sarah\\\\Desktop\\\\Python_wss\\\\test3'  # Replace with the path to VGG2Face dataset\n",
    "# rename_files_and_folders(source_directory)"
   ]
  },
  {
   "cell_type": "code",
   "execution_count": 20,
   "id": "e92d18b0-28f8-4447-853c-6ceb03cd0ccd",
   "metadata": {},
   "outputs": [],
   "source": [
    "# def move_images(source_dir, destination_dir):\n",
    "#     # Create the destination directory if it doesn't exist\n",
    "#     if not os.path.exists(destination_dir):\n",
    "#         os.makedirs(destination_dir)\n",
    "    \n",
    "#     # Traverse through the source directory\n",
    "#     for root, dirs, files in os.walk(source_dir):\n",
    "#         # Iterate over files in each subfolder\n",
    "#         for file in files:\n",
    "#             # Get the source file path\n",
    "#             source_file = os.path.join(root, file)\n",
    "#             # Get the destination file path\n",
    "#             destination_file = os.path.join(destination_dir, file)\n",
    "#             # Move the file to the destination directory\n",
    "#             shutil.move(source_file, destination_file)\n",
    "\n",
    "# # Example usage\n",
    "# source_directory = 'C:\\\\Users\\\\Sarah\\\\Desktop\\\\Python_wss\\\\test3'  # Replace with the path to VGG2Face dataset\n",
    "# destination_directory = 'C:\\\\Users\\\\Sarah\\\\Desktop\\\\Python_wss\\\\data\\\\negative'  # Replace with the path to destination folder\n",
    "# move_images(source_directory, destination_directory)"
   ]
  },
  {
   "cell_type": "code",
   "execution_count": 21,
   "id": "ef2c6883-21cb-44e7-bc04-a4c565f09a9a",
   "metadata": {},
   "outputs": [],
   "source": [
    "# #for split1\n",
    "# def rename_files_and_folders(source_dir):\n",
    "#     # Iterate over subfolders\n",
    "#     for root, dirs, files in os.walk(source_dir):\n",
    "#         for i, subdir in enumerate(dirs, start=501):\n",
    "#             # Rename subfolder\n",
    "#             old_subfolder_path = os.path.join(root, subdir)\n",
    "#             new_subfolder_name = f\"{subdir}_{i}\"\n",
    "#             new_subfolder_path = os.path.join(root, new_subfolder_name)\n",
    "#             os.rename(old_subfolder_path, new_subfolder_path)\n",
    "            \n",
    "#             # Rename files within the subfolder\n",
    "#             for j, filename in enumerate(os.listdir(new_subfolder_path), start=1):\n",
    "#                 old_file_path = os.path.join(new_subfolder_path, filename)\n",
    "#                 new_filename = f\"{new_subfolder_name}_{j}.jpg\"  # Example extension \".jpg\"\n",
    "#                 new_file_path = os.path.join(new_subfolder_path, new_filename)\n",
    "#                 os.rename(old_file_path, new_file_path)\n",
    "\n",
    "# # Example usage\n",
    "# source_directory = 'C:\\\\Users\\\\Sarah\\\\Desktop\\\\Python_wss\\\\split1'  # Replace with the path to VGG2Face dataset\n",
    "# rename_files_and_folders(source_directory)"
   ]
  },
  {
   "cell_type": "code",
   "execution_count": 22,
   "id": "40306fdc-f7a3-4973-a21b-2cc082276a12",
   "metadata": {},
   "outputs": [],
   "source": [
    "# def move_images(source_dir, destination_dir):\n",
    "#     # Create the destination directory if it doesn't exist\n",
    "#     if not os.path.exists(destination_dir):\n",
    "#         os.makedirs(destination_dir)\n",
    "    \n",
    "#     # Traverse through the source directory\n",
    "#     for root, dirs, files in os.walk(source_dir):\n",
    "#         # Iterate over files in each subfolder\n",
    "#         for file in files:\n",
    "#             # Get the source file path\n",
    "#             source_file = os.path.join(root, file)\n",
    "#             # Get the destination file path\n",
    "#             destination_file = os.path.join(destination_dir, file)\n",
    "#             # Move the file to the destination directory\n",
    "#             shutil.move(source_file, destination_file)\n",
    "\n",
    "# # Example usage\n",
    "# source_directory = 'C:\\\\Users\\\\Sarah\\\\Desktop\\\\Python_wss\\\\split1'  # Replace with the path to VGG2Face dataset\n",
    "# destination_directory = 'C:\\\\Users\\\\Sarah\\\\Desktop\\\\Python_wss\\\\data\\\\negative'  # Replace with the path to destination folder\n",
    "# move_images(source_directory, destination_directory)"
   ]
  },
  {
   "cell_type": "code",
   "execution_count": 23,
   "id": "959caf77-5b90-4480-bb24-64936bd2df29",
   "metadata": {},
   "outputs": [],
   "source": [
    "# #for split2\n",
    "# def rename_files_and_folders(source_dir):\n",
    "#     # Iterate over subfolders\n",
    "#     for root, dirs, files in os.walk(source_dir):\n",
    "#         for i, subdir in enumerate(dirs, start=2443):\n",
    "#             # Rename subfolder\n",
    "#             old_subfolder_path = os.path.join(root, subdir)\n",
    "#             new_subfolder_name = f\"{subdir}_{i}\"\n",
    "#             new_subfolder_path = os.path.join(root, new_subfolder_name)\n",
    "#             os.rename(old_subfolder_path, new_subfolder_path)\n",
    "            \n",
    "#             # Rename files within the subfolder\n",
    "#             for j, filename in enumerate(os.listdir(new_subfolder_path), start=1):\n",
    "#                 old_file_path = os.path.join(new_subfolder_path, filename)\n",
    "#                 new_filename = f\"{new_subfolder_name}_{j}.jpg\"  # Example extension \".jpg\"\n",
    "#                 new_file_path = os.path.join(new_subfolder_path, new_filename)\n",
    "#                 os.rename(old_file_path, new_file_path)\n",
    "\n",
    "# # Example usage\n",
    "# source_directory = 'C:\\\\Users\\\\Sarah\\\\Desktop\\\\Python_wss\\\\split2'  # Replace with the path to VGG2Face dataset\n",
    "# rename_files_and_folders(source_directory)"
   ]
  },
  {
   "cell_type": "code",
   "execution_count": 24,
   "id": "d71c8720-b679-4e68-90e1-70e00e32bf9a",
   "metadata": {},
   "outputs": [],
   "source": [
    "# def move_images(source_dir, destination_dir):\n",
    "#     # Create the destination directory if it doesn't exist\n",
    "#     if not os.path.exists(destination_dir):\n",
    "#         os.makedirs(destination_dir)\n",
    "    \n",
    "#     # Traverse through the source directory\n",
    "#     for root, dirs, files in os.walk(source_dir):\n",
    "#         # Iterate over files in each subfolder\n",
    "#         for file in files:\n",
    "#             # Get the source file path\n",
    "#             source_file = os.path.join(root, file)\n",
    "#             # Get the destination file path\n",
    "#             destination_file = os.path.join(destination_dir, file)\n",
    "#             # Move the file to the destination directory\n",
    "#             shutil.move(source_file, destination_file)\n",
    "\n",
    "# # Example usage\n",
    "# source_directory = 'C:\\\\Users\\\\Sarah\\\\Desktop\\\\Python_wss\\\\split2'  # Replace with the path to your VGG2Face dataset\n",
    "# destination_directory = 'C:\\\\Users\\\\Sarah\\\\Desktop\\\\Python_wss\\\\data\\\\negative'  # Replace with the path to your destination folder\n",
    "# move_images(source_directory, destination_directory)"
   ]
  },
  {
   "cell_type": "code",
   "execution_count": 25,
   "id": "d90011f7-605a-440a-b796-9c03d928d505",
   "metadata": {},
   "outputs": [],
   "source": [
    "# #for split3\n",
    "# def rename_files_and_folders(source_dir):\n",
    "#     # Iterate over subfolders\n",
    "#     for root, dirs, files in os.walk(source_dir):\n",
    "#         for i, subdir in enumerate(dirs, start=4367):\n",
    "#             # Rename subfolder\n",
    "#             old_subfolder_path = os.path.join(root, subdir)\n",
    "#             new_subfolder_name = f\"{subdir}_{i}\"\n",
    "#             new_subfolder_path = os.path.join(root, new_subfolder_name)\n",
    "#             os.rename(old_subfolder_path, new_subfolder_path)\n",
    "            \n",
    "#             # Rename files within the subfolder\n",
    "#             for j, filename in enumerate(os.listdir(new_subfolder_path), start=1):\n",
    "#                 old_file_path = os.path.join(new_subfolder_path, filename)\n",
    "#                 new_filename = f\"{new_subfolder_name}_{j}.jpg\"  # Example extension \".jpg\"\n",
    "#                 new_file_path = os.path.join(new_subfolder_path, new_filename)\n",
    "#                 os.rename(old_file_path, new_file_path)\n",
    "\n",
    "# # Example usage\n",
    "# source_directory = 'C:\\\\Users\\\\Sarah\\\\Desktop\\\\Python_wss\\\\split3'  # Replace with the path to VGG2Face dataset\n",
    "# rename_files_and_folders(source_directory)"
   ]
  },
  {
   "cell_type": "code",
   "execution_count": 26,
   "id": "296a6ecb-5692-4ef8-a236-fa6daed77620",
   "metadata": {},
   "outputs": [],
   "source": [
    "# def move_images(source_dir, destination_dir):\n",
    "#     # Create the destination directory if it doesn't exist\n",
    "#     if not os.path.exists(destination_dir):\n",
    "#         os.makedirs(destination_dir)\n",
    "    \n",
    "#     # Traverse through the source directory\n",
    "#     for root, dirs, files in os.walk(source_dir):\n",
    "#         # Iterate over files in each subfolder\n",
    "#         for file in files:\n",
    "#             # Get the source file path\n",
    "#             source_file = os.path.join(root, file)\n",
    "#             # Get the destination file path\n",
    "#             destination_file = os.path.join(destination_dir, file)\n",
    "#             # Move the file to the destination directory\n",
    "#             shutil.move(source_file, destination_file)\n",
    "\n",
    "# # Example usage\n",
    "# source_directory = 'C:\\\\Users\\\\Sarah\\\\Desktop\\\\Python_wss\\\\split3'  # Replace with the path to VGG2Face dataset\n",
    "# destination_directory = 'C:\\\\Users\\\\Sarah\\\\Desktop\\\\Python_wss\\\\data\\\\negative'  # Replace with the path to destination folder\n",
    "# move_images(source_directory, destination_directory)"
   ]
  },
  {
   "cell_type": "code",
   "execution_count": 27,
   "id": "a7e4025d-f321-4a49-9d8c-21b963c40813",
   "metadata": {},
   "outputs": [],
   "source": [
    "#accessing webcam"
   ]
  },
  {
   "cell_type": "code",
   "execution_count": 28,
   "id": "45ed70a6-5992-4e8e-980b-a181f90aa2d9",
   "metadata": {},
   "outputs": [],
   "source": [
    "import uuid #to generate unique image names"
   ]
  },
  {
   "cell_type": "code",
   "execution_count": 29,
   "id": "879c4048-39f9-4f42-ba18-66a2c257409e",
   "metadata": {},
   "outputs": [
    {
     "data": {
      "text/plain": [
       "'data\\\\Base\\\\3d801863-0d1a-11ef-8de8-3c6aa766dc02.jpg'"
      ]
     },
     "execution_count": 29,
     "metadata": {},
     "output_type": "execute_result"
    }
   ],
   "source": [
    "os.path.join(BASE_PATH, '{}.jpg'.format(uuid.uuid1()))"
   ]
  },
  {
   "cell_type": "code",
   "execution_count": 30,
   "id": "eb989435-fd13-4abc-aa04-3d90e1e8ec99",
   "metadata": {},
   "outputs": [],
   "source": [
    "# cam = cv2.VideoCapture(0)  # Use index 0 for the default webcam\n",
    "\n",
    "# while cam.isOpened(): \n",
    "#     # Read frame from the webcam\n",
    "#     ret, frame = cam.read()\n",
    "    \n",
    "#     # Check if frame was successfully retrieved\n",
    "#     if not ret:\n",
    "#         print(\"Error: Failed to capture frame\")\n",
    "#         break\n",
    "\n",
    "#     # Cut down frame to 250x250px\n",
    "#     frame = frame[120:120+250, 200:200+250, :]\n",
    "    \n",
    "#     # Collect Base \n",
    "#     if cv2.waitKey(1) & 0XFF == ord('a'):\n",
    "#         # Create the unique file path \n",
    "#         imgname = os.path.join(BASE_PATH, '{}.jpg'.format(uuid.uuid1()))\n",
    "#         # Write out anchor image\n",
    "#         cv2.imwrite(imgname, frame)\n",
    "    \n",
    "#     # Collect positives\n",
    "#     if cv2.waitKey(1) & 0XFF == ord('p'):\n",
    "#         # Create the unique file path \n",
    "#         imgname = os.path.join(POS_PATH, '{}.jpg'.format(uuid.uuid1()))\n",
    "#         # Write out positive image\n",
    "#         cv2.imwrite(imgname, frame)\n",
    "    \n",
    "#     # Show image to screen\n",
    "#     cv2.imshow('Image Collection', frame)\n",
    "    \n",
    "#     # Break\n",
    "#     if cv2.waitKey(1) & 0XFF == ord('q'):\n",
    "#         break\n",
    "        \n",
    "# # Release webcam\n",
    "# cam.release()\n",
    "\n",
    "# # Close the image show frame\n",
    "# cv2.destroyAllWindows()"
   ]
  },
  {
   "cell_type": "code",
   "execution_count": 31,
   "id": "585ef716-5743-4f4b-8367-6e981c930cd8",
   "metadata": {},
   "outputs": [],
   "source": [
    "#USING A GENERATOR TO BE ABLE TO LOOP THROUGH ALL THE FILES IN THE SPECIFIC DIRECTORIES (KIND OF WORKS LIKE A PIPELINE) (grab the paths only)\n",
    "base = tf.data.Dataset.list_files(BASE_PATH+'/*.jpg').take(200000) #TAKE A SAMPLE OF 400 IMAGES\n",
    "positive = tf.data.Dataset.list_files(POS_PATH+'/*.jpg').take(200000)\n",
    "negative = tf.data.Dataset.list_files(NEG_PATH+'/*.jpg').take(200000)"
   ]
  },
  {
   "cell_type": "code",
   "execution_count": 32,
   "id": "3047843d-7f55-45e5-a8c5-63475084e80e",
   "metadata": {},
   "outputs": [],
   "source": [
    "#preprocessing:"
   ]
  },
  {
   "cell_type": "code",
   "execution_count": 33,
   "id": "62ec015e-0099-49ea-9057-da23cc56a8d9",
   "metadata": {},
   "outputs": [],
   "source": [
    "# prepare image data for feeding into a neural network model by resizing it to a fixed size and normalizing the pixel values\n",
    "def preprocessing_func(file_path):\n",
    "    \n",
    "    # Read in image from file path\n",
    "    byte_image = tf.io.read_file(file_path)\n",
    "    # Load image \n",
    "    imag = tf.io.decode_jpeg(byte_image)\n",
    "    \n",
    "    # Preprocessing: resize image -> 100*100*3\n",
    "    imag = tf.image.resize(imag, (100,100))\n",
    "    # Scale image to be between 0 and 1 \n",
    "    imag = imag / 255.0\n",
    "    \n",
    "    return imag"
   ]
  },
  {
   "cell_type": "code",
   "execution_count": 34,
   "id": "e9a69713-2436-4667-89e5-21a0ac11b27b",
   "metadata": {},
   "outputs": [],
   "source": [
    "directory = base.as_numpy_iterator()"
   ]
  },
  {
   "cell_type": "code",
   "execution_count": 35,
   "id": "51cf3364-b4ed-4c77-abbd-54e28a49a4e5",
   "metadata": {},
   "outputs": [
    {
     "data": {
      "text/plain": [
       "b'data\\\\Base\\\\f6d3d757-01a2-11ef-af1f-3c6aa766dbff - Copy (140) - Copy - Copy.jpg'"
      ]
     },
     "execution_count": 35,
     "metadata": {},
     "output_type": "execute_result"
    }
   ],
   "source": [
    "directory.next()"
   ]
  },
  {
   "cell_type": "code",
   "execution_count": 36,
   "id": "022205c7-3ea3-4cb2-b3c7-9ad705e6509c",
   "metadata": {},
   "outputs": [],
   "source": [
    "image = preprocessing_func('data\\\\Base\\\\d30d4e75-01a2-11ef-b725-3c6aa766dbff.jpg')"
   ]
  },
  {
   "cell_type": "code",
   "execution_count": 37,
   "id": "b2359ad4-5b09-4bfc-91b6-9562fe750e9d",
   "metadata": {},
   "outputs": [
    {
     "data": {
      "text/plain": [
       "<matplotlib.image.AxesImage at 0x1d745f43d70>"
      ]
     },
     "execution_count": 37,
     "metadata": {},
     "output_type": "execute_result"
    },
    {
     "data": {
      "image/png": "[encoded data removed]",
      "text/plain": [
       "<Figure size 640x480 with 1 Axes>"
      ]
     },
     "metadata": {},
     "output_type": "display_data"
    }
   ],
   "source": [
    "plt.imshow(image)"
   ]
  },
  {
   "cell_type": "code",
   "execution_count": 38,
   "id": "a39c344d-609a-443b-8827-8ba3f7bbffac",
   "metadata": {},
   "outputs": [],
   "source": [
    "#creating labeled dataset"
   ]
  },
  {
   "cell_type": "code",
   "execution_count": 39,
   "id": "d30f6290-1931-40c4-84e4-9530f191eb44",
   "metadata": {},
   "outputs": [],
   "source": [
    "\n",
    "positives = tf.data.Dataset.zip((base, positive, tf.data.Dataset.from_tensor_slices(tf.ones(len(base)))))# zip so that we use it as a patch (at once))\n",
    "negatives = tf.data.Dataset.zip((base, negative, tf.data.Dataset.from_tensor_slices(tf.zeros(len(base)))))\n",
    "data = positives.concatenate(negatives)"
   ]
  },
  {
   "cell_type": "code",
   "execution_count": 40,
   "id": "346ecc55-973e-4c39-90b4-14620098fe7e",
   "metadata": {},
   "outputs": [],
   "source": [
    "#train & test"
   ]
  },
  {
   "cell_type": "code",
   "execution_count": 41,
   "id": "c7477070-4836-4ec9-8f48-3ab7d662d4d3",
   "metadata": {},
   "outputs": [],
   "source": [
    "def preprocess_identical(input_img, validation_img, label):\n",
    "    #label: indicates whether the input and validation images are identical or not\n",
    "    return(preprocessing_func(input_img), preprocessing_func(validation_img), label)"
   ]
  },
  {
   "cell_type": "code",
   "execution_count": 42,
   "id": "10e241f6-382a-498c-ad62-a08a34a074e5",
   "metadata": {},
   "outputs": [],
   "source": [
    "# Build dataloader pipeline\n",
    "data = data.map(preprocess_identical)\n",
    "data = data.cache()\n",
    "data = data.shuffle(buffer_size=1024)"
   ]
  },
  {
   "cell_type": "code",
   "execution_count": 43,
   "id": "7b908953-5f24-434b-b77a-a507fdd792db",
   "metadata": {},
   "outputs": [
    {
     "data": {
      "text/plain": [
       "280000"
      ]
     },
     "execution_count": 43,
     "metadata": {},
     "output_type": "execute_result"
    }
   ],
   "source": [
    "round(len(data)*.7)"
   ]
  },
  {
   "cell_type": "code",
   "execution_count": 44,
   "id": "f8486d1c-4e3f-4966-8947-3228dbdef158",
   "metadata": {},
   "outputs": [
    {
     "data": {
      "text/plain": [
       "120000"
      ]
     },
     "execution_count": 44,
     "metadata": {},
     "output_type": "execute_result"
    }
   ],
   "source": [
    "round(len(data)*.3)"
   ]
  },
  {
   "cell_type": "code",
   "execution_count": 83,
   "id": "7bc4c865-1af3-4fca-bee9-856c419e0bfc",
   "metadata": {},
   "outputs": [],
   "source": [
    "# Training partition\n",
    "train_data = data.take(round(len(data)*.7))\n",
    "train_data = train_data.batch(4)\n",
    "train_data = train_data.prefetch(2)"
   ]
  },
  {
   "cell_type": "code",
   "execution_count": 84,
   "id": "56064ab5-c011-46d8-905b-2f2ccbf0c036",
   "metadata": {},
   "outputs": [],
   "source": [
    "# Testing partition\n",
    "test_data = data.skip(round(len(data)*.7))\n",
    "test_data = test_data.take(round(len(data)*.3))\n",
    "test_data = test_data.batch(4)\n",
    "test_data = test_data.prefetch(2)"
   ]
  },
  {
   "cell_type": "code",
   "execution_count": 47,
   "id": "fbb768c0-2c1e-4039-8ae4-f57ee4919520",
   "metadata": {},
   "outputs": [],
   "source": [
    "#Creating The Model"
   ]
  },
  {
   "cell_type": "code",
   "execution_count": 48,
   "id": "94132112-a8ff-4e20-bbf5-ed25d613ce87",
   "metadata": {},
   "outputs": [],
   "source": [
    "#Create Embedding layer"
   ]
  },
  {
   "cell_type": "code",
   "execution_count": 49,
   "id": "d3e4e91e-4e4d-4584-b016-3832a6a6ab50",
   "metadata": {},
   "outputs": [],
   "source": [
    "def Embedding_Layer(): \n",
    "    input_layer = Input(shape=(100,100,3), name='input_image')\n",
    "    \n",
    "    #first block\n",
    "    convolution_layer1 = Conv2D(64, (10,10), activation='relu')(input_layer)\n",
    "    max_pooling1 = MaxPooling2D(64, (2,2), padding='same')(convolution_layer1)\n",
    "    \n",
    "    #second block\n",
    "    convolution_layer2 = Conv2D(128, (7,7), activation='relu')(max_pooling1)\n",
    "    max_pooling2 = MaxPooling2D(64, (2,2), padding='same')(convolution_layer2)\n",
    "    \n",
    "    #third block \n",
    "    convolution_layer3 = Conv2D(128, (4,4), activation='relu')(max_pooling2)\n",
    "    max_pooling3 = MaxPooling2D(64, (2,2), padding='same')(convolution_layer3)\n",
    "    \n",
    "    #fourth & final block\n",
    "    convolution_layer4 = Conv2D(256, (4,4), activation='relu')(max_pooling3)\n",
    "    flatten_layer1 = Flatten()(convolution_layer4)\n",
    "    dense_layer1 = Dense(4096, activation='sigmoid')(flatten_layer1)\n",
    "    \n",
    "    \n",
    "    return Model(inputs=input_layer, outputs=dense_layer1, name='Embedding_Layer')\n",
    "    \n"
   ]
  },
  {
   "cell_type": "code",
   "execution_count": 50,
   "id": "2bdda2bb-0c9f-45ae-8aff-45ab2096da97",
   "metadata": {},
   "outputs": [],
   "source": [
    "model1= Embedding_Layer()"
   ]
  },
  {
   "cell_type": "code",
   "execution_count": 51,
   "id": "cde52743-9ab5-4ec6-b01b-12799eaff08d",
   "metadata": {
    "scrolled": true
   },
   "outputs": [
    {
     "data": {
      "text/html": [
       "<pre style=\"white-space:pre;overflow-x:auto;line-height:normal;font-family:Menlo,'DejaVu Sans Mono',consolas,'Courier New',monospace\"><span style=\"font-weight: bold\">Model: \"Embedding_Layer\"</span>\n",
       "</pre>\n"
      ],
      "text/plain": [
       "\u001b[1mModel: \"Embedding_Layer\"\u001b[0m\n"
      ]
     },
     "metadata": {},
     "output_type": "display_data"
    },
    {
     "data": {
      "text/html": [
       "<pre style=\"white-space:pre;overflow-x:auto;line-height:normal;font-family:Menlo,'DejaVu Sans Mono',consolas,'Courier New',monospace\">┏━━━━━━━━━━━━━━━━━━━━━━━━━━━━━━━━━━━━━━┳━━━━━━━━━━━━━━━━━━━━━━━━━━━━━┳━━━━━━━━━━━━━━━━━┓\n",
       "┃<span style=\"font-weight: bold\"> Layer (type)                         </span>┃<span style=\"font-weight: bold\"> Output Shape                </span>┃<span style=\"font-weight: bold\">         Param # </span>┃\n",
       "┡━━━━━━━━━━━━━━━━━━━━━━━━━━━━━━━━━━━━━━╇━━━━━━━━━━━━━━━━━━━━━━━━━━━━━╇━━━━━━━━━━━━━━━━━┩\n",
       "│ input_image (<span style=\"color: #0087ff; text-decoration-color: #0087ff\">InputLayer</span>)             │ (<span style=\"color: #00d7ff; text-decoration-color: #00d7ff\">None</span>, <span style=\"color: #00af00; text-decoration-color: #00af00\">100</span>, <span style=\"color: #00af00; text-decoration-color: #00af00\">100</span>, <span style=\"color: #00af00; text-decoration-color: #00af00\">3</span>)         │               <span style=\"color: #00af00; text-decoration-color: #00af00\">0</span> │\n",
       "├──────────────────────────────────────┼─────────────────────────────┼─────────────────┤\n",
       "│ conv2d (<span style=\"color: #0087ff; text-decoration-color: #0087ff\">Conv2D</span>)                      │ (<span style=\"color: #00d7ff; text-decoration-color: #00d7ff\">None</span>, <span style=\"color: #00af00; text-decoration-color: #00af00\">91</span>, <span style=\"color: #00af00; text-decoration-color: #00af00\">91</span>, <span style=\"color: #00af00; text-decoration-color: #00af00\">64</span>)          │          <span style=\"color: #00af00; text-decoration-color: #00af00\">19,264</span> │\n",
       "├──────────────────────────────────────┼─────────────────────────────┼─────────────────┤\n",
       "│ max_pooling2d (<span style=\"color: #0087ff; text-decoration-color: #0087ff\">MaxPooling2D</span>)         │ (<span style=\"color: #00d7ff; text-decoration-color: #00d7ff\">None</span>, <span style=\"color: #00af00; text-decoration-color: #00af00\">46</span>, <span style=\"color: #00af00; text-decoration-color: #00af00\">46</span>, <span style=\"color: #00af00; text-decoration-color: #00af00\">64</span>)          │               <span style=\"color: #00af00; text-decoration-color: #00af00\">0</span> │\n",
       "├──────────────────────────────────────┼─────────────────────────────┼─────────────────┤\n",
       "│ conv2d_1 (<span style=\"color: #0087ff; text-decoration-color: #0087ff\">Conv2D</span>)                    │ (<span style=\"color: #00d7ff; text-decoration-color: #00d7ff\">None</span>, <span style=\"color: #00af00; text-decoration-color: #00af00\">40</span>, <span style=\"color: #00af00; text-decoration-color: #00af00\">40</span>, <span style=\"color: #00af00; text-decoration-color: #00af00\">128</span>)         │         <span style=\"color: #00af00; text-decoration-color: #00af00\">401,536</span> │\n",
       "├──────────────────────────────────────┼─────────────────────────────┼─────────────────┤\n",
       "│ max_pooling2d_1 (<span style=\"color: #0087ff; text-decoration-color: #0087ff\">MaxPooling2D</span>)       │ (<span style=\"color: #00d7ff; text-decoration-color: #00d7ff\">None</span>, <span style=\"color: #00af00; text-decoration-color: #00af00\">20</span>, <span style=\"color: #00af00; text-decoration-color: #00af00\">20</span>, <span style=\"color: #00af00; text-decoration-color: #00af00\">128</span>)         │               <span style=\"color: #00af00; text-decoration-color: #00af00\">0</span> │\n",
       "├──────────────────────────────────────┼─────────────────────────────┼─────────────────┤\n",
       "│ conv2d_2 (<span style=\"color: #0087ff; text-decoration-color: #0087ff\">Conv2D</span>)                    │ (<span style=\"color: #00d7ff; text-decoration-color: #00d7ff\">None</span>, <span style=\"color: #00af00; text-decoration-color: #00af00\">17</span>, <span style=\"color: #00af00; text-decoration-color: #00af00\">17</span>, <span style=\"color: #00af00; text-decoration-color: #00af00\">128</span>)         │         <span style=\"color: #00af00; text-decoration-color: #00af00\">262,272</span> │\n",
       "├──────────────────────────────────────┼─────────────────────────────┼─────────────────┤\n",
       "│ max_pooling2d_2 (<span style=\"color: #0087ff; text-decoration-color: #0087ff\">MaxPooling2D</span>)       │ (<span style=\"color: #00d7ff; text-decoration-color: #00d7ff\">None</span>, <span style=\"color: #00af00; text-decoration-color: #00af00\">9</span>, <span style=\"color: #00af00; text-decoration-color: #00af00\">9</span>, <span style=\"color: #00af00; text-decoration-color: #00af00\">128</span>)           │               <span style=\"color: #00af00; text-decoration-color: #00af00\">0</span> │\n",
       "├──────────────────────────────────────┼─────────────────────────────┼─────────────────┤\n",
       "│ conv2d_3 (<span style=\"color: #0087ff; text-decoration-color: #0087ff\">Conv2D</span>)                    │ (<span style=\"color: #00d7ff; text-decoration-color: #00d7ff\">None</span>, <span style=\"color: #00af00; text-decoration-color: #00af00\">6</span>, <span style=\"color: #00af00; text-decoration-color: #00af00\">6</span>, <span style=\"color: #00af00; text-decoration-color: #00af00\">256</span>)           │         <span style=\"color: #00af00; text-decoration-color: #00af00\">524,544</span> │\n",
       "├──────────────────────────────────────┼─────────────────────────────┼─────────────────┤\n",
       "│ flatten (<span style=\"color: #0087ff; text-decoration-color: #0087ff\">Flatten</span>)                    │ (<span style=\"color: #00d7ff; text-decoration-color: #00d7ff\">None</span>, <span style=\"color: #00af00; text-decoration-color: #00af00\">9216</span>)                │               <span style=\"color: #00af00; text-decoration-color: #00af00\">0</span> │\n",
       "├──────────────────────────────────────┼─────────────────────────────┼─────────────────┤\n",
       "│ dense (<span style=\"color: #0087ff; text-decoration-color: #0087ff\">Dense</span>)                        │ (<span style=\"color: #00d7ff; text-decoration-color: #00d7ff\">None</span>, <span style=\"color: #00af00; text-decoration-color: #00af00\">4096</span>)                │      <span style=\"color: #00af00; text-decoration-color: #00af00\">37,752,832</span> │\n",
       "└──────────────────────────────────────┴─────────────────────────────┴─────────────────┘\n",
       "</pre>\n"
      ],
      "text/plain": [
       "┏━━━━━━━━━━━━━━━━━━━━━━━━━━━━━━━━━━━━━━┳━━━━━━━━━━━━━━━━━━━━━━━━━━━━━┳━━━━━━━━━━━━━━━━━┓\n",
       "┃\u001b[1m \u001b[0m\u001b[1mLayer (type)                        \u001b[0m\u001b[1m \u001b[0m┃\u001b[1m \u001b[0m\u001b[1mOutput Shape               \u001b[0m\u001b[1m \u001b[0m┃\u001b[1m \u001b[0m\u001b[1m        Param #\u001b[0m\u001b[1m \u001b[0m┃\n",
       "┡━━━━━━━━━━━━━━━━━━━━━━━━━━━━━━━━━━━━━━╇━━━━━━━━━━━━━━━━━━━━━━━━━━━━━╇━━━━━━━━━━━━━━━━━┩\n",
       "│ input_image (\u001b[38;5;33mInputLayer\u001b[0m)             │ (\u001b[38;5;45mNone\u001b[0m, \u001b[38;5;34m100\u001b[0m, \u001b[38;5;34m100\u001b[0m, \u001b[38;5;34m3\u001b[0m)         │               \u001b[38;5;34m0\u001b[0m │\n",
       "├──────────────────────────────────────┼─────────────────────────────┼─────────────────┤\n",
       "│ conv2d (\u001b[38;5;33mConv2D\u001b[0m)                      │ (\u001b[38;5;45mNone\u001b[0m, \u001b[38;5;34m91\u001b[0m, \u001b[38;5;34m91\u001b[0m, \u001b[38;5;34m64\u001b[0m)          │          \u001b[38;5;34m19,264\u001b[0m │\n",
       "├──────────────────────────────────────┼─────────────────────────────┼─────────────────┤\n",
       "│ max_pooling2d (\u001b[38;5;33mMaxPooling2D\u001b[0m)         │ (\u001b[38;5;45mNone\u001b[0m, \u001b[38;5;34m46\u001b[0m, \u001b[38;5;34m46\u001b[0m, \u001b[38;5;34m64\u001b[0m)          │               \u001b[38;5;34m0\u001b[0m │\n",
       "├──────────────────────────────────────┼─────────────────────────────┼─────────────────┤\n",
       "│ conv2d_1 (\u001b[38;5;33mConv2D\u001b[0m)                    │ (\u001b[38;5;45mNone\u001b[0m, \u001b[38;5;34m40\u001b[0m, \u001b[38;5;34m40\u001b[0m, \u001b[38;5;34m128\u001b[0m)         │         \u001b[38;5;34m401,536\u001b[0m │\n",
       "├──────────────────────────────────────┼─────────────────────────────┼─────────────────┤\n",
       "│ max_pooling2d_1 (\u001b[38;5;33mMaxPooling2D\u001b[0m)       │ (\u001b[38;5;45mNone\u001b[0m, \u001b[38;5;34m20\u001b[0m, \u001b[38;5;34m20\u001b[0m, \u001b[38;5;34m128\u001b[0m)         │               \u001b[38;5;34m0\u001b[0m │\n",
       "├──────────────────────────────────────┼─────────────────────────────┼─────────────────┤\n",
       "│ conv2d_2 (\u001b[38;5;33mConv2D\u001b[0m)                    │ (\u001b[38;5;45mNone\u001b[0m, \u001b[38;5;34m17\u001b[0m, \u001b[38;5;34m17\u001b[0m, \u001b[38;5;34m128\u001b[0m)         │         \u001b[38;5;34m262,272\u001b[0m │\n",
       "├──────────────────────────────────────┼─────────────────────────────┼─────────────────┤\n",
       "│ max_pooling2d_2 (\u001b[38;5;33mMaxPooling2D\u001b[0m)       │ (\u001b[38;5;45mNone\u001b[0m, \u001b[38;5;34m9\u001b[0m, \u001b[38;5;34m9\u001b[0m, \u001b[38;5;34m128\u001b[0m)           │               \u001b[38;5;34m0\u001b[0m │\n",
       "├──────────────────────────────────────┼─────────────────────────────┼─────────────────┤\n",
       "│ conv2d_3 (\u001b[38;5;33mConv2D\u001b[0m)                    │ (\u001b[38;5;45mNone\u001b[0m, \u001b[38;5;34m6\u001b[0m, \u001b[38;5;34m6\u001b[0m, \u001b[38;5;34m256\u001b[0m)           │         \u001b[38;5;34m524,544\u001b[0m │\n",
       "├──────────────────────────────────────┼─────────────────────────────┼─────────────────┤\n",
       "│ flatten (\u001b[38;5;33mFlatten\u001b[0m)                    │ (\u001b[38;5;45mNone\u001b[0m, \u001b[38;5;34m9216\u001b[0m)                │               \u001b[38;5;34m0\u001b[0m │\n",
       "├──────────────────────────────────────┼─────────────────────────────┼─────────────────┤\n",
       "│ dense (\u001b[38;5;33mDense\u001b[0m)                        │ (\u001b[38;5;45mNone\u001b[0m, \u001b[38;5;34m4096\u001b[0m)                │      \u001b[38;5;34m37,752,832\u001b[0m │\n",
       "└──────────────────────────────────────┴─────────────────────────────┴─────────────────┘\n"
      ]
     },
     "metadata": {},
     "output_type": "display_data"
    },
    {
     "data": {
      "text/html": [
       "<pre style=\"white-space:pre;overflow-x:auto;line-height:normal;font-family:Menlo,'DejaVu Sans Mono',consolas,'Courier New',monospace\"><span style=\"font-weight: bold\"> Total params: </span><span style=\"color: #00af00; text-decoration-color: #00af00\">38,960,448</span> (148.62 MB)\n",
       "</pre>\n"
      ],
      "text/plain": [
       "\u001b[1m Total params: \u001b[0m\u001b[38;5;34m38,960,448\u001b[0m (148.62 MB)\n"
      ]
     },
     "metadata": {},
     "output_type": "display_data"
    },
    {
     "data": {
      "text/html": [
       "<pre style=\"white-space:pre;overflow-x:auto;line-height:normal;font-family:Menlo,'DejaVu Sans Mono',consolas,'Courier New',monospace\"><span style=\"font-weight: bold\"> Trainable params: </span><span style=\"color: #00af00; text-decoration-color: #00af00\">38,960,448</span> (148.62 MB)\n",
       "</pre>\n"
      ],
      "text/plain": [
       "\u001b[1m Trainable params: \u001b[0m\u001b[38;5;34m38,960,448\u001b[0m (148.62 MB)\n"
      ]
     },
     "metadata": {},
     "output_type": "display_data"
    },
    {
     "data": {
      "text/html": [
       "<pre style=\"white-space:pre;overflow-x:auto;line-height:normal;font-family:Menlo,'DejaVu Sans Mono',consolas,'Courier New',monospace\"><span style=\"font-weight: bold\"> Non-trainable params: </span><span style=\"color: #00af00; text-decoration-color: #00af00\">0</span> (0.00 B)\n",
       "</pre>\n"
      ],
      "text/plain": [
       "\u001b[1m Non-trainable params: \u001b[0m\u001b[38;5;34m0\u001b[0m (0.00 B)\n"
      ]
     },
     "metadata": {},
     "output_type": "display_data"
    }
   ],
   "source": [
    "model1.summary()"
   ]
  },
  {
   "cell_type": "code",
   "execution_count": 52,
   "id": "b58d7d36-2b95-4cb2-b8ea-49896b0cf5a0",
   "metadata": {},
   "outputs": [],
   "source": [
    "#Create Distance Layer"
   ]
  },
  {
   "cell_type": "code",
   "execution_count": 53,
   "id": "1e15c831-0893-4099-833d-abaaae9a0219",
   "metadata": {},
   "outputs": [],
   "source": [
    "class L1Dist(Layer):\n",
    "    \n",
    "    # Init method - inheritance\n",
    "    def __init__(self, **kwargs):\n",
    "        super().__init__()\n",
    "       \n",
    "    ## Magic happens here - similarity calculation\n",
    "    #def call(self, input_embedding, validation_embedding):\n",
    "     #   return tf.math.abs(input_embedding - validation_embedding)\n",
    "\n",
    "\n",
    "\n",
    "    \n",
    "    def call(self, inputs):\n",
    "        input_embedding, validation_embedding = inputs\n",
    "        return tf.math.abs(input_embedding - validation_embedding)"
   ]
  },
  {
   "cell_type": "code",
   "execution_count": 54,
   "id": "d3d6ea86-38e1-447d-95b7-60b25214f0c4",
   "metadata": {},
   "outputs": [],
   "source": [
    "#Create Siamese Model"
   ]
  },
  {
   "cell_type": "code",
   "execution_count": 55,
   "id": "dfe1a091-e55a-40b8-a270-f382170c85f0",
   "metadata": {},
   "outputs": [],
   "source": [
    "def siamese_model(): \n",
    "    \n",
    "    # base image input into the network\n",
    "    input_image = Input(name='input_img', shape=(100,100,3))\n",
    "    \n",
    "    # Validation image in the network \n",
    "    validation_image = Input(name='validation_img', shape=(100,100,3))\n",
    "    \n",
    "    # Combine siamese distance components\n",
    "    siameselayer = L1Dist()\n",
    "    siameselayer._name = 'distance'\n",
    "    dist = siameselayer([model1(input_image), model1(validation_image)])\n",
    "    \n",
    "    # Classification layer \n",
    "    classify = Dense(1, activation='sigmoid')(dist)\n",
    "    \n",
    "    return Model(inputs=[input_image, validation_image], outputs=classify, name='SiameseNetwork')"
   ]
  },
  {
   "cell_type": "code",
   "execution_count": 56,
   "id": "2246c130-c39b-484f-8a54-e354bd2a13b4",
   "metadata": {},
   "outputs": [
    {
     "name": "stdout",
     "output_type": "stream",
     "text": [
      "WARNING:tensorflow:From C:\\Users\\sarah\\AppData\\Local\\Programs\\Python\\Python312\\Lib\\site-packages\\keras\\src\\backend\\tensorflow\\core.py:187: The name tf.placeholder is deprecated. Please use tf.compat.v1.placeholder instead.\n",
      "\n"
     ]
    }
   ],
   "source": [
    "SiameseModel = siamese_model()"
   ]
  },
  {
   "cell_type": "code",
   "execution_count": 57,
   "id": "994bd071-723c-4f6d-b114-02600124c618",
   "metadata": {},
   "outputs": [
    {
     "data": {
      "text/html": [
       "<pre style=\"white-space:pre;overflow-x:auto;line-height:normal;font-family:Menlo,'DejaVu Sans Mono',consolas,'Courier New',monospace\"><span style=\"font-weight: bold\">Model: \"SiameseNetwork\"</span>\n",
       "</pre>\n"
      ],
      "text/plain": [
       "\u001b[1mModel: \"SiameseNetwork\"\u001b[0m\n"
      ]
     },
     "metadata": {},
     "output_type": "display_data"
    },
    {
     "data": {
      "text/html": [
       "<pre style=\"white-space:pre;overflow-x:auto;line-height:normal;font-family:Menlo,'DejaVu Sans Mono',consolas,'Courier New',monospace\">┏━━━━━━━━━━━━━━━━━━━━━━━━━━━━━━━┳━━━━━━━━━━━━━━━━━━━━━━━━━━━┳━━━━━━━━━━━━━━━━━┳━━━━━━━━━━━━━━━━━━━━━━━━━━━━┓\n",
       "┃<span style=\"font-weight: bold\"> Layer (type)                  </span>┃<span style=\"font-weight: bold\"> Output Shape              </span>┃<span style=\"font-weight: bold\">         Param # </span>┃<span style=\"font-weight: bold\"> Connected to               </span>┃\n",
       "┡━━━━━━━━━━━━━━━━━━━━━━━━━━━━━━━╇━━━━━━━━━━━━━━━━━━━━━━━━━━━╇━━━━━━━━━━━━━━━━━╇━━━━━━━━━━━━━━━━━━━━━━━━━━━━┩\n",
       "│ input_img (<span style=\"color: #0087ff; text-decoration-color: #0087ff\">InputLayer</span>)        │ (<span style=\"color: #00d7ff; text-decoration-color: #00d7ff\">None</span>, <span style=\"color: #00af00; text-decoration-color: #00af00\">100</span>, <span style=\"color: #00af00; text-decoration-color: #00af00\">100</span>, <span style=\"color: #00af00; text-decoration-color: #00af00\">3</span>)       │               <span style=\"color: #00af00; text-decoration-color: #00af00\">0</span> │ -                          │\n",
       "├───────────────────────────────┼───────────────────────────┼─────────────────┼────────────────────────────┤\n",
       "│ validation_img (<span style=\"color: #0087ff; text-decoration-color: #0087ff\">InputLayer</span>)   │ (<span style=\"color: #00d7ff; text-decoration-color: #00d7ff\">None</span>, <span style=\"color: #00af00; text-decoration-color: #00af00\">100</span>, <span style=\"color: #00af00; text-decoration-color: #00af00\">100</span>, <span style=\"color: #00af00; text-decoration-color: #00af00\">3</span>)       │               <span style=\"color: #00af00; text-decoration-color: #00af00\">0</span> │ -                          │\n",
       "├───────────────────────────────┼───────────────────────────┼─────────────────┼────────────────────────────┤\n",
       "│ Embedding_Layer (<span style=\"color: #0087ff; text-decoration-color: #0087ff\">Functional</span>)  │ (<span style=\"color: #00d7ff; text-decoration-color: #00d7ff\">None</span>, <span style=\"color: #00af00; text-decoration-color: #00af00\">4096</span>)              │      <span style=\"color: #00af00; text-decoration-color: #00af00\">38,960,448</span> │ input_img[<span style=\"color: #00af00; text-decoration-color: #00af00\">0</span>][<span style=\"color: #00af00; text-decoration-color: #00af00\">0</span>],           │\n",
       "│                               │                           │                 │ validation_img[<span style=\"color: #00af00; text-decoration-color: #00af00\">0</span>][<span style=\"color: #00af00; text-decoration-color: #00af00\">0</span>]       │\n",
       "├───────────────────────────────┼───────────────────────────┼─────────────────┼────────────────────────────┤\n",
       "│ l1_dist (<span style=\"color: #0087ff; text-decoration-color: #0087ff\">L1Dist</span>)              │ (<span style=\"color: #00d7ff; text-decoration-color: #00d7ff\">None</span>, <span style=\"color: #00af00; text-decoration-color: #00af00\">4096</span>)              │               <span style=\"color: #00af00; text-decoration-color: #00af00\">0</span> │ Embedding_Layer[<span style=\"color: #00af00; text-decoration-color: #00af00\">0</span>][<span style=\"color: #00af00; text-decoration-color: #00af00\">0</span>],     │\n",
       "│                               │                           │                 │ Embedding_Layer[<span style=\"color: #00af00; text-decoration-color: #00af00\">1</span>][<span style=\"color: #00af00; text-decoration-color: #00af00\">0</span>]      │\n",
       "├───────────────────────────────┼───────────────────────────┼─────────────────┼────────────────────────────┤\n",
       "│ dense_1 (<span style=\"color: #0087ff; text-decoration-color: #0087ff\">Dense</span>)               │ (<span style=\"color: #00d7ff; text-decoration-color: #00d7ff\">None</span>, <span style=\"color: #00af00; text-decoration-color: #00af00\">1</span>)                 │           <span style=\"color: #00af00; text-decoration-color: #00af00\">4,097</span> │ l1_dist[<span style=\"color: #00af00; text-decoration-color: #00af00\">0</span>][<span style=\"color: #00af00; text-decoration-color: #00af00\">0</span>]              │\n",
       "└───────────────────────────────┴───────────────────────────┴─────────────────┴────────────────────────────┘\n",
       "</pre>\n"
      ],
      "text/plain": [
       "┏━━━━━━━━━━━━━━━━━━━━━━━━━━━━━━━┳━━━━━━━━━━━━━━━━━━━━━━━━━━━┳━━━━━━━━━━━━━━━━━┳━━━━━━━━━━━━━━━━━━━━━━━━━━━━┓\n",
       "┃\u001b[1m \u001b[0m\u001b[1mLayer (type)                 \u001b[0m\u001b[1m \u001b[0m┃\u001b[1m \u001b[0m\u001b[1mOutput Shape             \u001b[0m\u001b[1m \u001b[0m┃\u001b[1m \u001b[0m\u001b[1m        Param #\u001b[0m\u001b[1m \u001b[0m┃\u001b[1m \u001b[0m\u001b[1mConnected to              \u001b[0m\u001b[1m \u001b[0m┃\n",
       "┡━━━━━━━━━━━━━━━━━━━━━━━━━━━━━━━╇━━━━━━━━━━━━━━━━━━━━━━━━━━━╇━━━━━━━━━━━━━━━━━╇━━━━━━━━━━━━━━━━━━━━━━━━━━━━┩\n",
       "│ input_img (\u001b[38;5;33mInputLayer\u001b[0m)        │ (\u001b[38;5;45mNone\u001b[0m, \u001b[38;5;34m100\u001b[0m, \u001b[38;5;34m100\u001b[0m, \u001b[38;5;34m3\u001b[0m)       │               \u001b[38;5;34m0\u001b[0m │ -                          │\n",
       "├───────────────────────────────┼───────────────────────────┼─────────────────┼────────────────────────────┤\n",
       "│ validation_img (\u001b[38;5;33mInputLayer\u001b[0m)   │ (\u001b[38;5;45mNone\u001b[0m, \u001b[38;5;34m100\u001b[0m, \u001b[38;5;34m100\u001b[0m, \u001b[38;5;34m3\u001b[0m)       │               \u001b[38;5;34m0\u001b[0m │ -                          │\n",
       "├───────────────────────────────┼───────────────────────────┼─────────────────┼────────────────────────────┤\n",
       "│ Embedding_Layer (\u001b[38;5;33mFunctional\u001b[0m)  │ (\u001b[38;5;45mNone\u001b[0m, \u001b[38;5;34m4096\u001b[0m)              │      \u001b[38;5;34m38,960,448\u001b[0m │ input_img[\u001b[38;5;34m0\u001b[0m][\u001b[38;5;34m0\u001b[0m],           │\n",
       "│                               │                           │                 │ validation_img[\u001b[38;5;34m0\u001b[0m][\u001b[38;5;34m0\u001b[0m]       │\n",
       "├───────────────────────────────┼───────────────────────────┼─────────────────┼────────────────────────────┤\n",
       "│ l1_dist (\u001b[38;5;33mL1Dist\u001b[0m)              │ (\u001b[38;5;45mNone\u001b[0m, \u001b[38;5;34m4096\u001b[0m)              │               \u001b[38;5;34m0\u001b[0m │ Embedding_Layer[\u001b[38;5;34m0\u001b[0m][\u001b[38;5;34m0\u001b[0m],     │\n",
       "│                               │                           │                 │ Embedding_Layer[\u001b[38;5;34m1\u001b[0m][\u001b[38;5;34m0\u001b[0m]      │\n",
       "├───────────────────────────────┼───────────────────────────┼─────────────────┼────────────────────────────┤\n",
       "│ dense_1 (\u001b[38;5;33mDense\u001b[0m)               │ (\u001b[38;5;45mNone\u001b[0m, \u001b[38;5;34m1\u001b[0m)                 │           \u001b[38;5;34m4,097\u001b[0m │ l1_dist[\u001b[38;5;34m0\u001b[0m][\u001b[38;5;34m0\u001b[0m]              │\n",
       "└───────────────────────────────┴───────────────────────────┴─────────────────┴────────────────────────────┘\n"
      ]
     },
     "metadata": {},
     "output_type": "display_data"
    },
    {
     "data": {
      "text/html": [
       "<pre style=\"white-space:pre;overflow-x:auto;line-height:normal;font-family:Menlo,'DejaVu Sans Mono',consolas,'Courier New',monospace\"><span style=\"font-weight: bold\"> Total params: </span><span style=\"color: #00af00; text-decoration-color: #00af00\">38,964,545</span> (148.64 MB)\n",
       "</pre>\n"
      ],
      "text/plain": [
       "\u001b[1m Total params: \u001b[0m\u001b[38;5;34m38,964,545\u001b[0m (148.64 MB)\n"
      ]
     },
     "metadata": {},
     "output_type": "display_data"
    },
    {
     "data": {
      "text/html": [
       "<pre style=\"white-space:pre;overflow-x:auto;line-height:normal;font-family:Menlo,'DejaVu Sans Mono',consolas,'Courier New',monospace\"><span style=\"font-weight: bold\"> Trainable params: </span><span style=\"color: #00af00; text-decoration-color: #00af00\">38,964,545</span> (148.64 MB)\n",
       "</pre>\n"
      ],
      "text/plain": [
       "\u001b[1m Trainable params: \u001b[0m\u001b[38;5;34m38,964,545\u001b[0m (148.64 MB)\n"
      ]
     },
     "metadata": {},
     "output_type": "display_data"
    },
    {
     "data": {
      "text/html": [
       "<pre style=\"white-space:pre;overflow-x:auto;line-height:normal;font-family:Menlo,'DejaVu Sans Mono',consolas,'Courier New',monospace\"><span style=\"font-weight: bold\"> Non-trainable params: </span><span style=\"color: #00af00; text-decoration-color: #00af00\">0</span> (0.00 B)\n",
       "</pre>\n"
      ],
      "text/plain": [
       "\u001b[1m Non-trainable params: \u001b[0m\u001b[38;5;34m0\u001b[0m (0.00 B)\n"
      ]
     },
     "metadata": {},
     "output_type": "display_data"
    }
   ],
   "source": [
    "SiameseModel.summary()"
   ]
  },
  {
   "cell_type": "code",
   "execution_count": 58,
   "id": "0223c352-df32-454a-b30b-df842e0d732f",
   "metadata": {},
   "outputs": [],
   "source": [
    "#training the model"
   ]
  },
  {
   "cell_type": "code",
   "execution_count": 59,
   "id": "62885f77-e582-44df-aace-d043562aefdd",
   "metadata": {},
   "outputs": [],
   "source": [
    "#setting up optimizer & loss"
   ]
  },
  {
   "cell_type": "code",
   "execution_count": 60,
   "id": "c7a65a68-81e8-4873-b862-d48d0d5e00bd",
   "metadata": {},
   "outputs": [],
   "source": [
    "binary_loss = tf.losses.BinaryCrossentropy()"
   ]
  },
  {
   "cell_type": "code",
   "execution_count": 61,
   "id": "9f44eb72-407b-4952-bb24-3944bb67044f",
   "metadata": {},
   "outputs": [],
   "source": [
    "optimizer = tf.keras.optimizers.Adam(1e-4) # 0.0001"
   ]
  },
  {
   "cell_type": "code",
   "execution_count": 62,
   "id": "37355942-4377-4ddb-a184-af22b3976873",
   "metadata": {},
   "outputs": [],
   "source": [
    "checkpoint_fold = './checkpoints'\n",
    "checkpoint_prefix = os.path.join(checkpoint_fold, 'ckpt')\n",
    "checkpoint = tf.train.Checkpoint(optimizer=optimizer, SiameseModel=SiameseModel)"
   ]
  },
  {
   "cell_type": "code",
   "execution_count": 63,
   "id": "75813897-1e65-4a0b-bb86-ed9548b31bc0",
   "metadata": {},
   "outputs": [],
   "source": [
    "testing_batch = train_data.as_numpy_iterator()"
   ]
  },
  {
   "cell_type": "code",
   "execution_count": 64,
   "id": "1b46f53a-025b-4a64-8f67-5f3825150d68",
   "metadata": {},
   "outputs": [],
   "source": [
    "#train for one batch\n",
    "@tf.function\n",
    "def train(batch):\n",
    "    \n",
    "    # Record all of our operations \n",
    "    with tf.GradientTape() as tape:  #for differentiation   \n",
    "        # Get base & +ve/-ve image\n",
    "        x = batch[:2]\n",
    "        # Get label\n",
    "        y = batch[2]\n",
    "        \n",
    "        # Forward pass\n",
    "        ypred = SiameseModel(x, training=True)\n",
    "        # Calculate loss\n",
    "        loss = binary_loss(y, ypred)\n",
    "    print(loss)\n",
    "        \n",
    "    # Calculate the gradients\n",
    "    gradien = tape.gradient(loss, SiameseModel.trainable_variables)\n",
    "    \n",
    "\n",
    "    #The optimizer is calculating & propagating the new weights using Adam's optimisation algorithm, a variant of gradient descent.\n",
    "    # & apply to the bsiamese model\n",
    "    optimizer.apply_gradients(zip(gradien, SiameseModel.trainable_variables))\n",
    "    \n",
    "    return loss"
   ]
  },
  {
   "cell_type": "code",
   "execution_count": 65,
   "id": "cad26cf2-6e02-4e7c-a1ca-583f3127a8d3",
   "metadata": {},
   "outputs": [],
   "source": [
    "# training loop"
   ]
  },
  {
   "cell_type": "code",
   "execution_count": 66,
   "id": "a0438378-59b2-43e5-a8b9-555922d8777d",
   "metadata": {},
   "outputs": [],
   "source": [
    "def train_loop(data, EPOCHS):\n",
    "    # Loop through epochs\n",
    "    for epoch in range(1, EPOCHS+1):\n",
    "        print('\\n Epoch {}/{}'.format(epoch, EPOCHS))\n",
    "        progbar = tf.keras.utils.Progbar(len(data))\n",
    "        \n",
    "        # Loop through each batch\n",
    "        for idx, batch in enumerate(data):\n",
    "            # Run train func\n",
    "            train(batch)\n",
    "            progbar.update(idx+1)\n",
    "        \n",
    "        # Save checkpoints\n",
    "        if epoch % 2 == 0: \n",
    "            checkpoint.save(file_prefix=checkpoint_prefix)"
   ]
  },
  {
   "cell_type": "code",
   "execution_count": 81,
   "id": "9ed22f9b-8afb-4def-9302-1d8b6e2f7ad4",
   "metadata": {},
   "outputs": [],
   "source": [
    "EPOCHS = 2"
   ]
  },
  {
   "cell_type": "code",
   "execution_count": null,
   "id": "af8881f5-2808-4201-978b-f834a5681f44",
   "metadata": {},
   "outputs": [
    {
     "name": "stdout",
     "output_type": "stream",
     "text": [
      "\n",
      " Epoch 1/2\n",
      "Tensor(\"binary_crossentropy/truediv:0\", shape=(), dtype=float32)\n",
      "\u001b[1m26373/70000\u001b[0m \u001b[32m━━━━━━━\u001b[0m\u001b[37m━━━━━━━━━━━━━\u001b[0m \u001b[1m10:45:29\u001b[0m 888ms/step"
     ]
    }
   ],
   "source": [
    "train_loop(train_data, EPOCHS)"
   ]
  },
  {
   "cell_type": "code",
   "execution_count": null,
   "id": "a68a120f-67e2-4eb0-86e7-31e04addf48b",
   "metadata": {},
   "outputs": [],
   "source": [
    "#testing"
   ]
  },
  {
   "cell_type": "code",
   "execution_count": 83,
   "id": "b448b4b0-9b67-4fb7-870a-ae01b77248f9",
   "metadata": {},
   "outputs": [],
   "source": [
    "from tensorflow.keras.metrics import Precision, Recall"
   ]
  },
  {
   "cell_type": "code",
   "execution_count": 84,
   "id": "34ea2148-b2b2-4c83-bdb9-2e3ab3a93718",
   "metadata": {},
   "outputs": [],
   "source": [
    "#grab a batch"
   ]
  },
  {
   "cell_type": "code",
   "execution_count": 85,
   "id": "ec1c009c-0322-440a-9531-593311410a9c",
   "metadata": {},
   "outputs": [],
   "source": [
    "test_inp, test_val, y_true = test_data.as_numpy_iterator().next()"
   ]
  },
  {
   "cell_type": "code",
   "execution_count": 86,
   "id": "d171155d-d9c8-4229-a201-6489d2530bef",
   "metadata": {},
   "outputs": [],
   "source": [
    "#making pred"
   ]
  },
  {
   "cell_type": "markdown",
   "metadata": {},
   "source": []
  },
  {
   "cell_type": "code",
   "execution_count": 87,
   "id": "00c5ada4-c0ef-4a1e-a974-1800c97c6214",
   "metadata": {},
   "outputs": [
    {
     "name": "stdout",
     "output_type": "stream",
     "text": [
      "\u001b[1m1/1\u001b[0m \u001b[32m━━━━━━━━━━━━━━━━━━━━\u001b[0m\u001b[37m\u001b[0m \u001b[1m1s\u001b[0m 1s/step\n"
     ]
    }
   ],
   "source": [
    "y_pred = SiameseModel.predict([test_inp, test_val])"
   ]
  },
  {
   "cell_type": "code",
   "execution_count": 89,
   "id": "28893aa2-5496-474e-906e-43c44c3050dd",
   "metadata": {},
   "outputs": [],
   "source": [
    "res = []\n",
    "for prediction in y_pred:\n",
    "    if prediction > 0.5:\n",
    "        res.append(1)\n",
    "    else:\n",
    "        res.append(0)"
   ]
  },
  {
   "cell_type": "code",
   "execution_count": 90,
   "id": "56d439d5-9a9e-4fc6-a728-33007ef51a8c",
   "metadata": {},
   "outputs": [
    {
     "data": {
      "text/plain": [
       "array([[8.3217269e-15],\n",
       "       [9.9981874e-01],\n",
       "       [1.0000000e+00],\n",
       "       [1.0000000e+00],\n",
       "       [9.9964243e-01],\n",
       "       [2.1699986e-12],\n",
       "       [1.0000000e+00],\n",
       "       [9.9988037e-01],\n",
       "       [1.0000000e+00],\n",
       "       [1.0000000e+00],\n",
       "       [1.0000000e+00],\n",
       "       [2.5654752e-09],\n",
       "       [9.9999952e-01],\n",
       "       [2.5973847e-13],\n",
       "       [2.0383425e-06],\n",
       "       [4.0170172e-14]], dtype=float32)"
      ]
     },
     "execution_count": 90,
     "metadata": {},
     "output_type": "execute_result"
    }
   ],
   "source": [
    "y_pred"
   ]
  },
  {
   "cell_type": "code",
   "execution_count": 91,
   "id": "b00b9f20-8c0d-455b-bc4e-290d7ff0d3b6",
   "metadata": {},
   "outputs": [
    {
     "data": {
      "text/plain": [
       "[0, 1, 1, 1, 1, 0, 1, 1, 1, 1, 1, 0, 1, 0, 0, 0]"
      ]
     },
     "execution_count": 91,
     "metadata": {},
     "output_type": "execute_result"
    }
   ],
   "source": [
    "res"
   ]
  },
  {
   "cell_type": "code",
   "execution_count": 92,
   "id": "213f81be-c2c6-4d3f-87aa-781619e67348",
   "metadata": {},
   "outputs": [
    {
     "data": {
      "text/plain": [
       "array([0., 1., 1., 1., 1., 0., 1., 1., 1., 1., 1., 0., 1., 0., 0., 0.],\n",
       "      dtype=float32)"
      ]
     },
     "execution_count": 92,
     "metadata": {},
     "output_type": "execute_result"
    }
   ],
   "source": [
    "y_true"
   ]
  },
  {
   "cell_type": "code",
   "execution_count": 93,
   "id": "dfc5506f-e7be-4706-a0f8-3a9e844868c4",
   "metadata": {},
   "outputs": [
    {
     "data": {
      "text/plain": [
       "1.0"
      ]
     },
     "execution_count": 93,
     "metadata": {},
     "output_type": "execute_result"
    }
   ],
   "source": [
    "# Create object for recall\n",
    "met_obj = Recall()\n",
    "\n",
    "# Calculate the recall \n",
    "met_obj.update_state(y_true, y_pred)\n",
    "\n",
    "met_obj.result().numpy()"
   ]
  },
  {
   "cell_type": "code",
   "execution_count": 94,
   "id": "9442731a-6198-4ff7-a09b-4e9aef1ad94e",
   "metadata": {},
   "outputs": [
    {
     "data": {
      "text/plain": [
       "1.0"
      ]
     },
     "execution_count": 94,
     "metadata": {},
     "output_type": "execute_result"
    }
   ],
   "source": [
    "# for precision\n",
    "met_obj = Precision()\n",
    " \n",
    "met_obj.update_state(y_true, y_pred)\n",
    "\n",
    "met_obj.result().numpy()"
   ]
  },
  {
   "cell_type": "code",
   "execution_count": null,
   "id": "e6be3232-f38a-45aa-a1e9-4f1ac456f942",
   "metadata": {},
   "outputs": [],
   "source": [
    "#plot results"
   ]
  },
  {
   "cell_type": "code",
   "execution_count": null,
   "id": "a98f969a-f8c4-49ce-9adb-b29c9d4595d0",
   "metadata": {},
   "outputs": [],
   "source": [
    "plt.figure(figsize=(10,8))\n",
    "\n",
    "plt.subplot(1,2,1)\n",
    "plt.imshow(test_inp[2])\n",
    "\n",
    "plt.subplot(1,2,2)\n",
    "plt.imshow(test_val[2])\n",
    "\n",
    "plt.show()"
   ]
  },
  {
   "cell_type": "code",
   "execution_count": null,
   "id": "c16d869d-8419-41cd-9c6d-5d753af4fa54",
   "metadata": {},
   "outputs": [],
   "source": [
    "#save"
   ]
  },
  {
   "cell_type": "code",
   "execution_count": 102,
   "id": "6e004344-1781-4432-9d14-c327021db36b",
   "metadata": {},
   "outputs": [
    {
     "name": "stderr",
     "output_type": "stream",
     "text": [
      "WARNING:absl:You are saving your model as an HDF5 file via `model.save()` or `keras.saving.save_model(model)`. This file format is considered legacy. We recommend using instead the native Keras format, e.g. `model.save('my_model.keras')` or `keras.saving.save_model(model, 'my_model.keras')`. \n"
     ]
    },
    {
     "ename": "ValueError",
     "evalue": "Unable to synchronously create dataset (name already exists)",
     "output_type": "error",
     "traceback": [
      "\u001b[1;31m---------------------------------------------------------------------------\u001b[0m",
      "\u001b[1;31mValueError\u001b[0m                                Traceback (most recent call last)",
      "Cell \u001b[1;32mIn[102], line 1\u001b[0m\n\u001b[1;32m----> 1\u001b[0m \u001b[43mSiameseModel\u001b[49m\u001b[38;5;241;43m.\u001b[39;49m\u001b[43msave\u001b[49m\u001b[43m(\u001b[49m\u001b[38;5;124;43m'\u001b[39;49m\u001b[38;5;124;43mfile_model.h5\u001b[39;49m\u001b[38;5;124;43m'\u001b[39;49m\u001b[43m)\u001b[49m\n",
      "File \u001b[1;32mC:\\Users\\sarah\\AppData\\Local\\Programs\\Python\\Python312\\Lib\\site-packages\\keras\\src\\utils\\traceback_utils.py:122\u001b[0m, in \u001b[0;36mfilter_traceback.<locals>.error_handler\u001b[1;34m(*args, **kwargs)\u001b[0m\n\u001b[0;32m    119\u001b[0m     filtered_tb \u001b[38;5;241m=\u001b[39m _process_traceback_frames(e\u001b[38;5;241m.\u001b[39m__traceback__)\n\u001b[0;32m    120\u001b[0m     \u001b[38;5;66;03m# To get the full stack trace, call:\u001b[39;00m\n\u001b[0;32m    121\u001b[0m     \u001b[38;5;66;03m# `keras.config.disable_traceback_filtering()`\u001b[39;00m\n\u001b[1;32m--> 122\u001b[0m     \u001b[38;5;28;01mraise\u001b[39;00m e\u001b[38;5;241m.\u001b[39mwith_traceback(filtered_tb) \u001b[38;5;28;01mfrom\u001b[39;00m \u001b[38;5;28;01mNone\u001b[39;00m\n\u001b[0;32m    123\u001b[0m \u001b[38;5;28;01mfinally\u001b[39;00m:\n\u001b[0;32m    124\u001b[0m     \u001b[38;5;28;01mdel\u001b[39;00m filtered_tb\n",
      "File \u001b[1;32mC:\\Users\\sarah\\AppData\\Local\\Programs\\Python\\Python312\\Lib\\site-packages\\h5py\\_hl\\group.py:183\u001b[0m, in \u001b[0;36mGroup.create_dataset\u001b[1;34m(self, name, shape, dtype, data, **kwds)\u001b[0m\n\u001b[0;32m    180\u001b[0m         parent_path, name \u001b[38;5;241m=\u001b[39m name\u001b[38;5;241m.\u001b[39mrsplit(\u001b[38;5;124mb\u001b[39m\u001b[38;5;124m'\u001b[39m\u001b[38;5;124m/\u001b[39m\u001b[38;5;124m'\u001b[39m, \u001b[38;5;241m1\u001b[39m)\n\u001b[0;32m    181\u001b[0m         group \u001b[38;5;241m=\u001b[39m \u001b[38;5;28mself\u001b[39m\u001b[38;5;241m.\u001b[39mrequire_group(parent_path)\n\u001b[1;32m--> 183\u001b[0m dsid \u001b[38;5;241m=\u001b[39m \u001b[43mdataset\u001b[49m\u001b[38;5;241;43m.\u001b[39;49m\u001b[43mmake_new_dset\u001b[49m\u001b[43m(\u001b[49m\u001b[43mgroup\u001b[49m\u001b[43m,\u001b[49m\u001b[43m \u001b[49m\u001b[43mshape\u001b[49m\u001b[43m,\u001b[49m\u001b[43m \u001b[49m\u001b[43mdtype\u001b[49m\u001b[43m,\u001b[49m\u001b[43m \u001b[49m\u001b[43mdata\u001b[49m\u001b[43m,\u001b[49m\u001b[43m \u001b[49m\u001b[43mname\u001b[49m\u001b[43m,\u001b[49m\u001b[43m \u001b[49m\u001b[38;5;241;43m*\u001b[39;49m\u001b[38;5;241;43m*\u001b[39;49m\u001b[43mkwds\u001b[49m\u001b[43m)\u001b[49m\n\u001b[0;32m    184\u001b[0m dset \u001b[38;5;241m=\u001b[39m dataset\u001b[38;5;241m.\u001b[39mDataset(dsid)\n\u001b[0;32m    185\u001b[0m \u001b[38;5;28;01mreturn\u001b[39;00m dset\n",
      "File \u001b[1;32mC:\\Users\\sarah\\AppData\\Local\\Programs\\Python\\Python312\\Lib\\site-packages\\h5py\\_hl\\dataset.py:163\u001b[0m, in \u001b[0;36mmake_new_dset\u001b[1;34m(parent, shape, dtype, data, name, chunks, compression, shuffle, fletcher32, maxshape, compression_opts, fillvalue, scaleoffset, track_times, external, track_order, dcpl, dapl, efile_prefix, virtual_prefix, allow_unknown_filter, rdcc_nslots, rdcc_nbytes, rdcc_w0)\u001b[0m\n\u001b[0;32m    160\u001b[0m \u001b[38;5;28;01melse\u001b[39;00m:\n\u001b[0;32m    161\u001b[0m     sid \u001b[38;5;241m=\u001b[39m h5s\u001b[38;5;241m.\u001b[39mcreate_simple(shape, maxshape)\n\u001b[1;32m--> 163\u001b[0m dset_id \u001b[38;5;241m=\u001b[39m \u001b[43mh5d\u001b[49m\u001b[38;5;241;43m.\u001b[39;49m\u001b[43mcreate\u001b[49m\u001b[43m(\u001b[49m\u001b[43mparent\u001b[49m\u001b[38;5;241;43m.\u001b[39;49m\u001b[43mid\u001b[49m\u001b[43m,\u001b[49m\u001b[43m \u001b[49m\u001b[43mname\u001b[49m\u001b[43m,\u001b[49m\u001b[43m \u001b[49m\u001b[43mtid\u001b[49m\u001b[43m,\u001b[49m\u001b[43m \u001b[49m\u001b[43msid\u001b[49m\u001b[43m,\u001b[49m\u001b[43m \u001b[49m\u001b[43mdcpl\u001b[49m\u001b[38;5;241;43m=\u001b[39;49m\u001b[43mdcpl\u001b[49m\u001b[43m,\u001b[49m\u001b[43m \u001b[49m\u001b[43mdapl\u001b[49m\u001b[38;5;241;43m=\u001b[39;49m\u001b[43mdapl\u001b[49m\u001b[43m)\u001b[49m\n\u001b[0;32m    165\u001b[0m \u001b[38;5;28;01mif\u001b[39;00m (data \u001b[38;5;129;01mis\u001b[39;00m \u001b[38;5;129;01mnot\u001b[39;00m \u001b[38;5;28;01mNone\u001b[39;00m) \u001b[38;5;129;01mand\u001b[39;00m (\u001b[38;5;129;01mnot\u001b[39;00m \u001b[38;5;28misinstance\u001b[39m(data, Empty)):\n\u001b[0;32m    166\u001b[0m     dset_id\u001b[38;5;241m.\u001b[39mwrite(h5s\u001b[38;5;241m.\u001b[39mALL, h5s\u001b[38;5;241m.\u001b[39mALL, data)\n",
      "File \u001b[1;32mh5py\\\\_objects.pyx:54\u001b[0m, in \u001b[0;36mh5py._objects.with_phil.wrapper\u001b[1;34m()\u001b[0m\n",
      "File \u001b[1;32mh5py\\\\_objects.pyx:55\u001b[0m, in \u001b[0;36mh5py._objects.with_phil.wrapper\u001b[1;34m()\u001b[0m\n",
      "File \u001b[1;32mh5py\\\\h5d.pyx:137\u001b[0m, in \u001b[0;36mh5py.h5d.create\u001b[1;34m()\u001b[0m\n",
      "\u001b[1;31mValueError\u001b[0m: Unable to synchronously create dataset (name already exists)"
     ]
    }
   ],
   "source": [
    "SiameseModel.save('file_model.h5')"
   ]
  },
  {
   "cell_type": "code",
   "execution_count": 103,
   "id": "6b54a9b5-2688-452e-ab1f-ff68596fdceb",
   "metadata": {},
   "outputs": [],
   "source": [
    "SiameseModel.save('file_model.keras')"
   ]
  },
  {
   "cell_type": "code",
   "execution_count": null,
   "id": "e3e40644-68eb-4eaf-8450-cc55483088fe",
   "metadata": {},
   "outputs": [],
   "source": []
  }
 ],
 "metadata": {
  "kernelspec": {
   "display_name": "Python 3 (ipykernel)",
   "language": "python",
   "name": "python3"
  },
  "language_info": {
   "codemirror_mode": {
    "name": "ipython",
    "version": 3
   },
   "file_extension": ".py",
   "mimetype": "text/x-python",
   "name": "python",
   "nbconvert_exporter": "python",
   "pygments_lexer": "ipython3",
   "version": "3.12.0"
  }
 },
 "nbformat": 4,
 "nbformat_minor": 5
}
